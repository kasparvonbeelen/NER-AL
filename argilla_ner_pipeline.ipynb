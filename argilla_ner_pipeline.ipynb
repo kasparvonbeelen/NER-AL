{
 "cells": [
  {
   "cell_type": "markdown",
   "id": "a65601c1",
   "metadata": {},
   "source": [
    "# Annotating and Active Learning with Argilla\n",
    "\n",
    "This notebook is set up for the Congruence Engine project. The goal is to build a simple  NLP framework for annotation and active learning, targeted specifically at named entity recognition.\n",
    "\n",
    "This notebook sets up an annotation and active learning frame work with Argilla. The notebook can be run locally.\n",
    "\n",
    "Notebook based on [this tutorial](https://docs.argilla.io/en/latest/tutorials/notebooks/labelling-tokenclassification-spacy-pretrained.html)"
   ]
  },
  {
   "cell_type": "code",
   "execution_count": 3,
   "id": "630c316e",
   "metadata": {},
   "outputs": [
    {
     "name": "stdout",
     "output_type": "stream",
     "text": [
      "\n",
      "\n",
      "Your runtime has 17.2 gigabytes of available RAM\n",
      "\n"
     ]
    }
   ],
   "source": [
    "# info on available ram\n",
    "from psutil import virtual_memory\n",
    "ram_gb = virtual_memory().total / 1e9\n",
    "print('\\n\\nYour runtime has {:.1f} gigabytes of available RAM\\n'.format(ram_gb))"
   ]
  },
  {
   "cell_type": "markdown",
   "id": "2ec4298a",
   "metadata": {},
   "source": [
    "Argilla requires elastic search installation."
   ]
  },
  {
   "cell_type": "markdown",
   "id": "d515ea06",
   "metadata": {},
   "source": [
    "## Local install\n",
    "\n",
    "Download [Docker Desktop](https://docs.docker.com/desktop/install/mac-install/)."
   ]
  },
  {
   "cell_type": "code",
   "execution_count": 4,
   "id": "28a40a01",
   "metadata": {},
   "outputs": [
    {
     "name": "stdout",
     "output_type": "stream",
     "text": [
      "docker: Error response from daemon: Conflict. The container name \"/quickstart\" is already in use by container \"2bc3fbe0af9c4da7a09efd086a2adef350ab78468fe0741877e4c91e4d9e4c66\". You have to remove (or rename) that container to be able to reuse that name.\r\n",
      "See 'docker run --help'.\r\n"
     ]
    }
   ],
   "source": [
    "!docker run -d --name quickstart -p 6900:6900 argilla/argilla-quickstart:latest"
   ]
  },
  {
   "cell_type": "markdown",
   "id": "7480a9c9",
   "metadata": {},
   "source": [
    "Go to [http://localhost:6900](http://localhost:6900) and log in with username admin and password 12345678. "
   ]
  },
  {
   "cell_type": "code",
   "execution_count": 17,
   "id": "bd73b12f",
   "metadata": {},
   "outputs": [],
   "source": [
    "import argilla as rg"
   ]
  },
  {
   "cell_type": "code",
   "execution_count": 6,
   "id": "3d260668",
   "metadata": {},
   "outputs": [],
   "source": [
    "# import os\n",
    "# import argilla as rg\n",
    "\n",
    "# rg.init(\n",
    "#     api_url=os.environ.get(\"ARGILLA_API_URL\"),\n",
    "#     api_key=os.environ.get(\"admin.apikey\"),\n",
    "#     workspace=\"my_workspace\",\n",
    "#     extra_headers={\"X-Argilla-Workspace\": \"my_connection_headers\"}\n",
    "# )"
   ]
  },
  {
   "cell_type": "code",
   "execution_count": 7,
   "id": "b3e60b5f",
   "metadata": {},
   "outputs": [
    {
     "name": "stdout",
     "output_type": "stream",
     "text": [
      "/Users/kasparbeelen/Documents/NER-AL\r\n"
     ]
    }
   ],
   "source": [
    "#!pwd"
   ]
  },
  {
   "cell_type": "code",
   "execution_count": 8,
   "id": "099d169e",
   "metadata": {},
   "outputs": [],
   "source": [
    "#!export ARGILLA_LOCAL_AUTH_USERS_DB_FILE=/Users/kasparbeelen/Documents/NER-AL/users.yaml"
   ]
  },
  {
   "cell_type": "code",
   "execution_count": 18,
   "id": "e1ebe6e8",
   "metadata": {},
   "outputs": [],
   "source": [
    "# Replace api_url with the url to your HF Spaces URL if using Spaces\n",
    "# Replace api_key if you configured a custom API key\n",
    "rg.init(\n",
    "    api_url=\"http://localhost:6900\",\n",
    "    api_key=\"admin.apikey\")"
   ]
  },
  {
   "cell_type": "code",
   "execution_count": null,
   "id": "c3fc27a9",
   "metadata": {},
   "outputs": [],
   "source": [
    "!pip install datasets \"spacy[transformers]~=3.0\" protobuf -qqq"
   ]
  },
  {
   "cell_type": "code",
   "execution_count": null,
   "id": "d7a1af52",
   "metadata": {},
   "outputs": [],
   "source": [
    "!python -m spacy download en_core_web_trf\n",
    "!python -m spacy download en_core_web_sm"
   ]
  },
  {
   "cell_type": "code",
   "execution_count": 19,
   "id": "0b8ee943",
   "metadata": {},
   "outputs": [],
   "source": [
    "from datasets import load_dataset\n",
    "import pandas as pd\n",
    "import spacy\n",
    "from tqdm.auto import tqdm"
   ]
  },
  {
   "cell_type": "code",
   "execution_count": 20,
   "id": "68ed61d0",
   "metadata": {},
   "outputs": [
    {
     "data": {
      "text/html": [
       "<div>\n",
       "<style scoped>\n",
       "    .dataframe tbody tr th:only-of-type {\n",
       "        vertical-align: middle;\n",
       "    }\n",
       "\n",
       "    .dataframe tbody tr th {\n",
       "        vertical-align: top;\n",
       "    }\n",
       "\n",
       "    .dataframe thead th {\n",
       "        text-align: right;\n",
       "    }\n",
       "</style>\n",
       "<table border=\"1\" class=\"dataframe\">\n",
       "  <thead>\n",
       "    <tr style=\"text-align: right;\">\n",
       "      <th></th>\n",
       "      <th>guten_id</th>\n",
       "      <th>hour_reference</th>\n",
       "      <th>time_phrase</th>\n",
       "      <th>is_ambiguous</th>\n",
       "      <th>time_pos_start</th>\n",
       "      <th>time_pos_end</th>\n",
       "      <th>tok_context</th>\n",
       "    </tr>\n",
       "  </thead>\n",
       "  <tbody>\n",
       "    <tr>\n",
       "      <th>0</th>\n",
       "      <td>4447</td>\n",
       "      <td>5</td>\n",
       "      <td>five o'clock</td>\n",
       "      <td>True</td>\n",
       "      <td>145</td>\n",
       "      <td>147</td>\n",
       "      <td>I crossed the ground she had traversed , notin...</td>\n",
       "    </tr>\n",
       "    <tr>\n",
       "      <th>1</th>\n",
       "      <td>4447</td>\n",
       "      <td>12</td>\n",
       "      <td>the fall of the winter noon</td>\n",
       "      <td>True</td>\n",
       "      <td>68</td>\n",
       "      <td>74</td>\n",
       "      <td>So profoundly penetrated with thoughtfulness w...</td>\n",
       "    </tr>\n",
       "    <tr>\n",
       "      <th>2</th>\n",
       "      <td>28999</td>\n",
       "      <td>12</td>\n",
       "      <td>midday</td>\n",
       "      <td>True</td>\n",
       "      <td>46</td>\n",
       "      <td>47</td>\n",
       "      <td>And here is Hendon , and it is time for us to ...</td>\n",
       "    </tr>\n",
       "    <tr>\n",
       "      <th>3</th>\n",
       "      <td>28999</td>\n",
       "      <td>12</td>\n",
       "      <td>midday</td>\n",
       "      <td>True</td>\n",
       "      <td>133</td>\n",
       "      <td>134</td>\n",
       "      <td>Sorrows and trials she had had in plenty in he...</td>\n",
       "    </tr>\n",
       "    <tr>\n",
       "      <th>4</th>\n",
       "      <td>28999</td>\n",
       "      <td>0</td>\n",
       "      <td>midnight</td>\n",
       "      <td>True</td>\n",
       "      <td>43</td>\n",
       "      <td>44</td>\n",
       "      <td>Jeannie joined her friend in the window-seat ....</td>\n",
       "    </tr>\n",
       "  </tbody>\n",
       "</table>\n",
       "</div>"
      ],
      "text/plain": [
       "  guten_id hour_reference                  time_phrase  is_ambiguous  \\\n",
       "0     4447              5                 five o'clock          True   \n",
       "1     4447             12  the fall of the winter noon          True   \n",
       "2    28999             12                       midday          True   \n",
       "3    28999             12                       midday          True   \n",
       "4    28999              0                     midnight          True   \n",
       "\n",
       "   time_pos_start  time_pos_end  \\\n",
       "0             145           147   \n",
       "1              68            74   \n",
       "2              46            47   \n",
       "3             133           134   \n",
       "4              43            44   \n",
       "\n",
       "                                         tok_context  \n",
       "0  I crossed the ground she had traversed , notin...  \n",
       "1  So profoundly penetrated with thoughtfulness w...  \n",
       "2  And here is Hendon , and it is time for us to ...  \n",
       "3  Sorrows and trials she had had in plenty in he...  \n",
       "4  Jeannie joined her friend in the window-seat ....  "
      ]
     },
     "execution_count": 20,
     "metadata": {},
     "output_type": "execute_result"
    }
   ],
   "source": [
    "dataset = load_dataset(\"gutenberg_time\", split=\"train\", streaming=True)\n",
    "\n",
    "# Let's have a look at the first 5 examples of the train set.\n",
    "pd.DataFrame(dataset.take(5))"
   ]
  },
  {
   "cell_type": "code",
   "execution_count": 21,
   "id": "8793c116",
   "metadata": {},
   "outputs": [
    {
     "data": {
      "application/vnd.jupyter.widget-view+json": {
       "model_id": "e5917b660cb84e5a9264b6ed27d44e82",
       "version_major": 2,
       "version_minor": 0
      },
      "text/plain": [
       "  0%|          | 0/50 [00:00<?, ?it/s]"
      ]
     },
     "metadata": {},
     "output_type": "display_data"
    }
   ],
   "source": [
    "nlp = spacy.load(\"en_core_web_trf\")\n",
    "\n",
    "# Creating an empty record list to save all the records\n",
    "records = []\n",
    "\n",
    "# Iterate over the first 50 examples of the Gutenberg dataset\n",
    "for record in tqdm(list(dataset.take(50))):\n",
    "    # We only need the text of each instance\n",
    "    text = record[\"tok_context\"]\n",
    "\n",
    "    # spaCy Doc creation\n",
    "    doc = nlp(text)\n",
    "\n",
    "    # Entity annotations\n",
    "    entities = [(ent.label_, ent.start_char, ent.end_char) for ent in doc.ents]\n",
    "\n",
    "    # Pre-tokenized input text\n",
    "    tokens = [token.text for token in doc]\n",
    "\n",
    "    # Argilla TokenClassificationRecord list\n",
    "    records.append(\n",
    "        rg.TokenClassificationRecord(\n",
    "            text=text,\n",
    "            tokens=tokens,\n",
    "            prediction=entities,\n",
    "            prediction_agent=\"en_core_web_trf\",\n",
    "        )\n",
    "    )"
   ]
  },
  {
   "cell_type": "code",
   "execution_count": 22,
   "id": "3681af41",
   "metadata": {},
   "outputs": [
    {
     "data": {
      "application/vnd.jupyter.widget-view+json": {
       "model_id": "757bac533c0b47da921979fab6efd182",
       "version_major": 2,
       "version_minor": 0
      },
      "text/plain": [
       "Output()"
      ]
     },
     "metadata": {},
     "output_type": "display_data"
    },
    {
     "data": {
      "text/html": [
       "<pre style=\"white-space:pre;overflow-x:auto;line-height:normal;font-family:Menlo,'DejaVu Sans Mono',consolas,'Courier New',monospace\"></pre>\n"
      ],
      "text/plain": []
     },
     "metadata": {},
     "output_type": "display_data"
    },
    {
     "data": {
      "text/html": [
       "<pre style=\"white-space:pre;overflow-x:auto;line-height:normal;font-family:Menlo,'DejaVu Sans Mono',consolas,'Courier New',monospace\">\n",
       "</pre>\n"
      ],
      "text/plain": [
       "\n"
      ]
     },
     "metadata": {},
     "output_type": "display_data"
    },
    {
     "data": {
      "text/html": [
       "<pre style=\"white-space:pre;overflow-x:auto;line-height:normal;font-family:Menlo,'DejaVu Sans Mono',consolas,'Courier New',monospace\"><span style=\"color: #008080; text-decoration-color: #008080; font-weight: bold\">50</span> records logged to <a href=\"http://localhost:6900/datasets/admin/gutenberg_spacy_ner\" target=\"_blank\"><span style=\"color: #0000ff; text-decoration-color: #0000ff; text-decoration: underline\">http://localhost:6900/datasets/admin/gutenberg_spacy_ner</span></a>\n",
       "</pre>\n"
      ],
      "text/plain": [
       "\u001b[1;36m50\u001b[0m records logged to \u001b]8;id=454640;http://localhost:6900/datasets/admin/gutenberg_spacy_ner\u001b\\\u001b[4;94mhttp://localhost:6900/datasets/admin/gutenberg_spacy_ner\u001b[0m\u001b]8;;\u001b\\\n"
      ]
     },
     "metadata": {},
     "output_type": "display_data"
    },
    {
     "data": {
      "text/plain": [
       "BulkResponse(dataset='gutenberg_spacy_ner', processed=50, failed=0)"
      ]
     },
     "execution_count": 22,
     "metadata": {},
     "output_type": "execute_result"
    }
   ],
   "source": [
    "#rg.set_workspace(\"my_private_workspace\")\n",
    "rg.log(records=records, name=\"gutenberg_spacy_ner\")"
   ]
  },
  {
   "cell_type": "code",
   "execution_count": null,
   "id": "79575097",
   "metadata": {},
   "outputs": [],
   "source": []
  }
 ],
 "metadata": {
  "kernelspec": {
   "display_name": "ner-al",
   "language": "python",
   "name": "ner-al"
  },
  "language_info": {
   "codemirror_mode": {
    "name": "ipython",
    "version": 3
   },
   "file_extension": ".py",
   "mimetype": "text/x-python",
   "name": "python",
   "nbconvert_exporter": "python",
   "pygments_lexer": "ipython3",
   "version": "3.9.16"
  }
 },
 "nbformat": 4,
 "nbformat_minor": 5
}
