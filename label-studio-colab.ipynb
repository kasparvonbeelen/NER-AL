{
 "cells": [
  {
   "cell_type": "markdown",
   "id": "18eeca80",
   "metadata": {},
   "source": [
    "# Run Label Studio on Colab\n",
    "\n",
    "This notebooks sets up the Label Studio tool on Google Colab. Many of the materials are inspired on the Argilla tutorial."
   ]
  },
  {
   "cell_type": "markdown",
   "id": "2d75d8d2",
   "metadata": {},
   "source": [
    "## Install libraries"
   ]
  },
  {
   "cell_type": "code",
   "execution_count": null,
   "id": "2193d46b",
   "metadata": {},
   "outputs": [],
   "source": [
    "!pip install pyngrok~=5.2.1 colab-xterm~=0.1.2 \n",
    "!python -m pip install label-studio"
   ]
  },
  {
   "cell_type": "code",
   "execution_count": null,
   "id": "a4a7e170",
   "metadata": {},
   "outputs": [],
   "source": [
    "# create a terminal to run label-studio, in case you don't have Colab Pro.\n",
    "# type \"label-studio\" into the terminal that appears below this code cell.\n",
    "%load_ext colabxterm\n",
    "%xterm"
   ]
  },
  {
   "cell_type": "code",
   "execution_count": null,
   "id": "40bc8e00",
   "metadata": {},
   "outputs": [],
   "source": [
    "import getpass\n",
    "from pyngrok import ngrok, conf\n",
    "\n",
    "print(\"Enter your authtoken, which can be copied from https://dashboard.ngrok.com/auth\")\n",
    "print(\"You need to create a free ngrok account to get an authtoken. The token looks something like this: ASDO1283YZaDu95vysXYIUXZXYRR_54YfASDIb8cpNfVoz349587\")\n",
    "conf.get_default().auth_token = getpass.getpass()\n",
    "# if the above does not work, you can try:\n",
    "#ngrok.set_auth_token(\"<INSER_YOUR_NGROK_AUTHTOKEN>\")"
   ]
  },
  {
   "cell_type": "code",
   "execution_count": null,
   "id": "541d1f60",
   "metadata": {},
   "outputs": [],
   "source": [
    "# disconnect all existing tunnels to avoid issues when rerunning cells\n",
    "[ngrok.disconnect(tunnel.public_url) for tunnel in ngrok.get_tunnels()]\n",
    "\n",
    "# create the public link\n",
    "# ! check whether this is actually the localhost port Label Studio is running on via the terminal above\n",
    "ngrok_tunnel = ngrok.connect(8081)  # insert the port number Label Studio is running on. e.g. 8081 if the terminal displays something like \"Uvicorn running on http://0.0.0.0:8081\"\n",
    "print(\"You can now access the Argilla localhost with the public link below. (It should look something like 'http://X03b-34-XXX-237-25.ngrok.io')\\n\")\n",
    "print(f\"Your ngrok public link: {ngrok_tunnel}\\n\")\n",
    "print(\"After clicking on the link, there will be a warning, which you can ignore\")"
   ]
  }
 ],
 "metadata": {
  "kernelspec": {
   "display_name": "ner-al",
   "language": "python",
   "name": "ner-al"
  },
  "language_info": {
   "codemirror_mode": {
    "name": "ipython",
    "version": 3
   },
   "file_extension": ".py",
   "mimetype": "text/x-python",
   "name": "python",
   "nbconvert_exporter": "python",
   "pygments_lexer": "ipython3",
   "version": "3.9.16"
  }
 },
 "nbformat": 4,
 "nbformat_minor": 5
}
