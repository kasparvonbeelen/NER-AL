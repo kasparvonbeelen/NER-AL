{
 "cells": [
  {
   "cell_type": "markdown",
   "id": "a5041a10",
   "metadata": {},
   "source": [
    "# Annotating and Active Learning with Argilla\n",
    "\n",
    "This notebook is set up for the Congruence Engine project. The goal is to build a simple  NLP framework for annotation and active learning, targeted specifically at named entity recognition.\n",
    "\n",
    "This notebook sets up an annotation and active learning frame work with Argilla. The notebook can be run locally or on Google Colab.\n",
    "\n",
    "This tutorial builds on the excellent [blog post and notebook](https://docs.argilla.io/en/latest/tutorials/notebooks/deploying-textclassification-colab-activelearning.html) by [Moritz Laurer](https://www.linkedin.com/in/moritz-laurer/)."
   ]
  },
  {
   "cell_type": "markdown",
   "id": "a907135d",
   "metadata": {},
   "source": [
    "Run this notebook on Colab\n",
    "\n",
    "[![Open In Colab](https://colab.research.google.com/assets/colab-badge.svg)](https://colab.research.google.com/github/kasparvonbeelen/NER-AL/blob/1-setup/argilla_setup_ner_pipeline.ipynb)\n",
    "\n"
   ]
  },
  {
   "cell_type": "code",
   "execution_count": null,
   "id": "ef261516",
   "metadata": {},
   "outputs": [],
   "source": [
    "# if using colab download requirements .txt with wget\n",
    "# uncomment line below\n",
    "# !wget -i https://raw.githubusercontent.com/kasparvonbeelen/NER-AL/1-setup/requirements.txt"
   ]
  },
  {
   "cell_type": "code",
   "execution_count": 1,
   "id": "237f22ce",
   "metadata": {},
   "outputs": [
    {
     "name": "stdout",
     "output_type": "stream",
     "text": [
      "Collecting argilla[listeners,server]==1.1.1\n",
      "  Downloading argilla-1.1.1-py3-none-any.whl (1.7 MB)\n",
      "\u001b[2K     \u001b[90m━━━━━━━━━━━━━━━━━━━━━━━━━━━━━━━━━━━━━━━━\u001b[0m \u001b[32m1.7/1.7 MB\u001b[0m \u001b[31m8.3 MB/s\u001b[0m eta \u001b[36m0:00:00\u001b[0m00:01\u001b[0m00:01\u001b[0m\n",
      "\u001b[?25hCollecting transformers[sentencepiece]~=4.25.1\n",
      "  Downloading transformers-4.25.1-py3-none-any.whl (5.8 MB)\n",
      "\u001b[2K     \u001b[90m━━━━━━━━━━━━━━━━━━━━━━━━━━━━━━━━━━━━━━━━\u001b[0m \u001b[32m5.8/5.8 MB\u001b[0m \u001b[31m8.9 MB/s\u001b[0m eta \u001b[36m0:00:00\u001b[0m00:01\u001b[0m00:01\u001b[0mm\n",
      "\u001b[?25hCollecting datasets~=2.7.1\n",
      "  Downloading datasets-2.7.1-py3-none-any.whl (451 kB)\n",
      "\u001b[2K     \u001b[90m━━━━━━━━━━━━━━━━━━━━━━━━━━━━━━━━━━━━━━━\u001b[0m \u001b[32m451.7/451.7 kB\u001b[0m \u001b[31m7.9 MB/s\u001b[0m eta \u001b[36m0:00:00\u001b[0ma \u001b[36m0:00:01\u001b[0m\n",
      "\u001b[?25hCollecting small-text[transformers]~=1.1.1\n",
      "  Downloading small_text-1.1.1-py3-none-any.whl (178 kB)\n",
      "\u001b[2K     \u001b[90m━━━━━━━━━━━━━━━━━━━━━━━━━━━━━━━━━━━━━━━\u001b[0m \u001b[32m178.1/178.1 kB\u001b[0m \u001b[31m9.1 MB/s\u001b[0m eta \u001b[36m0:00:00\u001b[0m\n",
      "\u001b[?25hCollecting colab-xterm~=0.1.2\n",
      "  Downloading colab_xterm-0.1.2-py3-none-any.whl (115 kB)\n",
      "\u001b[2K     \u001b[90m━━━━━━━━━━━━━━━━━━━━━━━━━━━━━━━━━━━━━━━\u001b[0m \u001b[32m115.3/115.3 kB\u001b[0m \u001b[31m5.4 MB/s\u001b[0m eta \u001b[36m0:00:00\u001b[0m\n",
      "\u001b[?25hCollecting pyngrok~=5.2.1\n",
      "  Downloading pyngrok-5.2.3.tar.gz (681 kB)\n",
      "\u001b[2K     \u001b[90m━━━━━━━━━━━━━━━━━━━━━━━━━━━━━━━━━━━━━━━\u001b[0m \u001b[32m681.2/681.2 kB\u001b[0m \u001b[31m7.7 MB/s\u001b[0m eta \u001b[36m0:00:00\u001b[0m00:01\u001b[0m00:01\u001b[0m\n",
      "\u001b[?25h  Preparing metadata (setup.py) ... \u001b[?25ldone\n",
      "\u001b[?25hCollecting deprecated~=1.2.0\n",
      "  Downloading Deprecated-1.2.13-py2.py3-none-any.whl (9.6 kB)\n",
      "Collecting httpx~=0.15.0\n",
      "  Downloading httpx-0.15.5-py3-none-any.whl (65 kB)\n",
      "\u001b[2K     \u001b[90m━━━━━━━━━━━━━━━━━━━━━━━━━━━━━━━━━━━━━━━━\u001b[0m \u001b[32m65.1/65.1 kB\u001b[0m \u001b[31m6.5 MB/s\u001b[0m eta \u001b[36m0:00:00\u001b[0m\n",
      "\u001b[?25hCollecting monotonic\n",
      "  Downloading monotonic-1.6-py2.py3-none-any.whl (8.2 kB)\n",
      "Collecting wrapt~=1.13.0\n",
      "  Downloading wrapt-1.13.3.tar.gz (48 kB)\n",
      "\u001b[2K     \u001b[90m━━━━━━━━━━━━━━━━━━━━━━━━━━━━━━━━━━━━━━━━\u001b[0m \u001b[32m48.9/48.9 kB\u001b[0m \u001b[31m4.4 MB/s\u001b[0m eta \u001b[36m0:00:00\u001b[0m\n",
      "\u001b[?25h  Preparing metadata (setup.py) ... \u001b[?25ldone\n",
      "\u001b[?25hCollecting pydantic>=1.7.1\n",
      "  Downloading pydantic-1.10.7-cp39-cp39-macosx_11_0_arm64.whl (2.6 MB)\n",
      "\u001b[2K     \u001b[90m━━━━━━━━━━━━━━━━━━━━━━━━━━━━━━━━━━━━━━━━\u001b[0m \u001b[32m2.6/2.6 MB\u001b[0m \u001b[31m8.7 MB/s\u001b[0m eta \u001b[36m0:00:00\u001b[0ma \u001b[36m0:00:01\u001b[0m\n",
      "\u001b[?25hCollecting tqdm>=4.27.0\n",
      "  Using cached tqdm-4.65.0-py3-none-any.whl (77 kB)\n",
      "Requirement already satisfied: packaging>=20.0 in /Users/kasparbeelen/anaconda3/envs/ce/lib/python3.9/site-packages (from argilla[listeners,server]==1.1.1->-r requirements.txt (line 1)) (23.0)\n",
      "Collecting pandas<2.0.0,>=1.0.0\n",
      "  Downloading pandas-1.5.3-cp39-cp39-macosx_11_0_arm64.whl (11.0 MB)\n",
      "\u001b[2K     \u001b[90m━━━━━━━━━━━━━━━━━━━━━━━━━━━━━━━━━━━━━━━━\u001b[0m \u001b[32m11.0/11.0 MB\u001b[0m \u001b[31m9.0 MB/s\u001b[0m eta \u001b[36m0:00:00\u001b[0m00:01\u001b[0m00:01\u001b[0m\n",
      "\u001b[?25hCollecting numpy\n",
      "  Using cached numpy-1.24.3-cp39-cp39-macosx_11_0_arm64.whl (13.9 MB)\n",
      "Collecting backoff\n",
      "  Downloading backoff-2.2.1-py3-none-any.whl (15 kB)\n",
      "Collecting fastapi~=0.75.0\n",
      "  Downloading fastapi-0.75.2-py3-none-any.whl (54 kB)\n",
      "\u001b[2K     \u001b[90m━━━━━━━━━━━━━━━━━━━━━━━━━━━━━━━━━━━━━━━━\u001b[0m \u001b[32m54.4/54.4 kB\u001b[0m \u001b[31m4.9 MB/s\u001b[0m eta \u001b[36m0:00:00\u001b[0m\n",
      "\u001b[?25hCollecting opensearch-py~=1.0.0\n",
      "  Downloading opensearch_py-1.0.0-py2.py3-none-any.whl (207 kB)\n",
      "\u001b[2K     \u001b[90m━━━━━━━━━━━━━━━━━━━━━━━━━━━━━━━━━━━━━━━\u001b[0m \u001b[32m207.5/207.5 kB\u001b[0m \u001b[31m7.9 MB/s\u001b[0m eta \u001b[36m0:00:00\u001b[0m\n",
      "\u001b[?25hCollecting scikit-learn>=0.24.2\n",
      "  Using cached scikit_learn-1.2.2-cp39-cp39-macosx_12_0_arm64.whl (8.5 MB)\n",
      "Collecting python-jose[cryptography]~=3.2.0\n",
      "  Downloading python_jose-3.2.0-py2.py3-none-any.whl (26 kB)\n",
      "Collecting luqum~=0.11.0\n",
      "  Downloading luqum-0.11.0-py3-none-any.whl (49 kB)\n",
      "\u001b[2K     \u001b[90m━━━━━━━━━━━━━━━━━━━━━━━━━━━━━━━━━━━━━━━━\u001b[0m \u001b[32m49.9/49.9 kB\u001b[0m \u001b[31m5.0 MB/s\u001b[0m eta \u001b[36m0:00:00\u001b[0m\n",
      "\u001b[?25hCollecting smart-open\n",
      "  Downloading smart_open-6.3.0-py3-none-any.whl (56 kB)\n",
      "\u001b[2K     \u001b[90m━━━━━━━━━━━━━━━━━━━━━━━━━━━━━━━━━━━━━━━━\u001b[0m \u001b[32m56.8/56.8 kB\u001b[0m \u001b[31m5.6 MB/s\u001b[0m eta \u001b[36m0:00:00\u001b[0m\n",
      "\u001b[?25hCollecting brotli-asgi~=1.1.0\n",
      "  Downloading brotli_asgi-1.1.0-py3-none-any.whl (4.3 kB)\n",
      "Collecting aiofiles~=0.6.0\n",
      "  Downloading aiofiles-0.6.0-py3-none-any.whl (11 kB)\n",
      "Collecting uvicorn[standard]<0.18.0,>=0.15.0\n",
      "  Downloading uvicorn-0.17.6-py3-none-any.whl (53 kB)\n",
      "\u001b[2K     \u001b[90m━━━━━━━━━━━━━━━━━━━━━━━━━━━━━━━━━━━━━━━━\u001b[0m \u001b[32m53.6/53.6 kB\u001b[0m \u001b[31m5.8 MB/s\u001b[0m eta \u001b[36m0:00:00\u001b[0m\n",
      "\u001b[?25hCollecting psutil~=5.8.0\n",
      "  Downloading psutil-5.8.0.tar.gz (470 kB)\n",
      "\u001b[2K     \u001b[90m━━━━━━━━━━━━━━━━━━━━━━━━━━━━━━━━━━━━━━━\u001b[0m \u001b[32m470.9/470.9 kB\u001b[0m \u001b[31m8.2 MB/s\u001b[0m eta \u001b[36m0:00:00\u001b[0ma \u001b[36m0:00:01\u001b[0m\n",
      "\u001b[?25h  Preparing metadata (setup.py) ... \u001b[?25ldone\n",
      "\u001b[?25hCollecting PyYAML~=5.4.1\n",
      "  Downloading PyYAML-5.4.1.tar.gz (175 kB)\n",
      "\u001b[2K     \u001b[90m━━━━━━━━━━━━━━━━━━━━━━━━━━━━━━━━━━━━━━━\u001b[0m \u001b[32m175.1/175.1 kB\u001b[0m \u001b[31m8.6 MB/s\u001b[0m eta \u001b[36m0:00:00\u001b[0m\n",
      "\u001b[?25h  Installing build dependencies ... \u001b[?25ldone\n",
      "\u001b[?25h  Getting requirements to build wheel ... \u001b[?25ldone\n",
      "\u001b[?25h  Preparing metadata (pyproject.toml) ... \u001b[?25ldone\n",
      "\u001b[?25hCollecting python-multipart~=0.0.5\n",
      "  Downloading python_multipart-0.0.6-py3-none-any.whl (45 kB)\n",
      "\u001b[2K     \u001b[90m━━━━━━━━━━━━━━━━━━━━━━━━━━━━━━━━━━━━━━━━\u001b[0m \u001b[32m45.7/45.7 kB\u001b[0m \u001b[31m5.6 MB/s\u001b[0m eta \u001b[36m0:00:00\u001b[0m\n",
      "\u001b[?25hCollecting segment-analytics-python==2.2.0\n",
      "  Downloading segment_analytics_python-2.2.0-py2.py3-none-any.whl (23 kB)\n",
      "Collecting passlib[bcrypt]~=1.7.4\n",
      "  Downloading passlib-1.7.4-py2.py3-none-any.whl (525 kB)\n",
      "\u001b[2K     \u001b[90m━━━━━━━━━━━━━━━━━━━━━━━━━━━━━━━━━━━━━━━\u001b[0m \u001b[32m525.6/525.6 kB\u001b[0m \u001b[31m8.3 MB/s\u001b[0m eta \u001b[36m0:00:00\u001b[0ma \u001b[36m0:00:01\u001b[0m\n",
      "\u001b[?25hCollecting stopwordsiso~=0.6.1\n",
      "  Downloading stopwordsiso-0.6.1-py3-none-any.whl (73 kB)\n",
      "\u001b[2K     \u001b[90m━━━━━━━━━━━━━━━━━━━━━━━━━━━━━━━━━━━━━━━━\u001b[0m \u001b[32m73.5/73.5 kB\u001b[0m \u001b[31m7.2 MB/s\u001b[0m eta \u001b[36m0:00:00\u001b[0m\n",
      "\u001b[?25hCollecting schedule~=1.1.0\n",
      "  Downloading schedule-1.1.0-py2.py3-none-any.whl (10 kB)\n",
      "Collecting prodict~=0.8.0\n",
      "  Downloading prodict-0.8.18.tar.gz (4.2 kB)\n",
      "  Preparing metadata (setup.py) ... \u001b[?25ldone\n",
      "\u001b[?25hCollecting backoff\n",
      "  Downloading backoff-1.11.1-py2.py3-none-any.whl (13 kB)\n",
      "Requirement already satisfied: python-dateutil~=2.2 in /Users/kasparbeelen/anaconda3/envs/ce/lib/python3.9/site-packages (from segment-analytics-python==2.2.0->argilla[listeners,server]==1.1.1->-r requirements.txt (line 1)) (2.8.2)\n",
      "Requirement already satisfied: requests~=2.7 in /Users/kasparbeelen/anaconda3/envs/ce/lib/python3.9/site-packages (from segment-analytics-python==2.2.0->argilla[listeners,server]==1.1.1->-r requirements.txt (line 1)) (2.29.0)\n",
      "Collecting filelock\n",
      "  Using cached filelock-3.12.0-py3-none-any.whl (10 kB)\n",
      "Collecting tokenizers!=0.11.3,<0.14,>=0.11.1\n",
      "  Using cached tokenizers-0.13.3-cp39-cp39-macosx_12_0_arm64.whl (3.9 MB)\n",
      "Collecting huggingface-hub<1.0,>=0.10.0\n",
      "  Using cached huggingface_hub-0.14.1-py3-none-any.whl (224 kB)\n",
      "Collecting regex!=2019.12.17\n",
      "  Downloading regex-2023.5.5-cp39-cp39-macosx_11_0_arm64.whl (288 kB)\n",
      "\u001b[2K     \u001b[90m━━━━━━━━━━━━━━━━━━━━━━━━━━━━━━━━━━━━━━━\u001b[0m \u001b[32m288.9/288.9 kB\u001b[0m \u001b[31m7.5 MB/s\u001b[0m eta \u001b[36m0:00:00\u001b[0m\n",
      "\u001b[?25hCollecting protobuf<=3.20.2\n",
      "  Downloading protobuf-3.20.2-py2.py3-none-any.whl (162 kB)\n",
      "\u001b[2K     \u001b[90m━━━━━━━━━━━━━━━━━━━━━━━━━━━━━━━━━━━━━━━\u001b[0m \u001b[32m162.1/162.1 kB\u001b[0m \u001b[31m8.9 MB/s\u001b[0m eta \u001b[36m0:00:00\u001b[0m\n",
      "\u001b[?25hCollecting sentencepiece!=0.1.92,>=0.1.91\n",
      "  Downloading sentencepiece-0.1.99-cp39-cp39-macosx_11_0_arm64.whl (1.2 MB)\n",
      "\u001b[2K     \u001b[90m━━━━━━━━━━━━━━━━━━━━━━━━━━━━━━━━━━━━━━━━\u001b[0m \u001b[32m1.2/1.2 MB\u001b[0m \u001b[31m8.7 MB/s\u001b[0m eta \u001b[36m0:00:00\u001b[0ma \u001b[36m0:00:01\u001b[0m\n",
      "\u001b[?25hCollecting xxhash\n",
      "  Using cached xxhash-3.2.0-cp39-cp39-macosx_11_0_arm64.whl (31 kB)\n",
      "Collecting responses<0.19\n",
      "  Using cached responses-0.18.0-py3-none-any.whl (38 kB)\n",
      "Collecting multiprocess\n",
      "  Using cached multiprocess-0.70.14-py39-none-any.whl (132 kB)\n",
      "Collecting fsspec[http]>=2021.11.1\n",
      "  Downloading fsspec-2023.5.0-py3-none-any.whl (160 kB)\n",
      "\u001b[2K     \u001b[90m━━━━━━━━━━━━━━━━━━━━━━━━━━━━━━━━━━━━━━━\u001b[0m \u001b[32m160.1/160.1 kB\u001b[0m \u001b[31m7.0 MB/s\u001b[0m eta \u001b[36m0:00:00\u001b[0m\n",
      "\u001b[?25hCollecting aiohttp\n",
      "  Using cached aiohttp-3.8.4-cp39-cp39-macosx_11_0_arm64.whl (338 kB)\n",
      "Collecting pyarrow>=6.0.0\n",
      "  Downloading pyarrow-12.0.0-cp39-cp39-macosx_11_0_arm64.whl (22.7 MB)\n"
     ]
    },
    {
     "name": "stdout",
     "output_type": "stream",
     "text": [
      "\u001b[2K     \u001b[90m━━━━━━━━━━━━━━━━━━━━━━━━━━━━━━━━━━━━━━━━\u001b[0m \u001b[32m22.7/22.7 MB\u001b[0m \u001b[31m8.8 MB/s\u001b[0m eta \u001b[36m0:00:00\u001b[0m00:01\u001b[0m00:01\u001b[0m\n",
      "\u001b[?25hCollecting dill<0.3.7\n",
      "  Using cached dill-0.3.6-py3-none-any.whl (110 kB)\n",
      "Collecting scipy\n",
      "  Using cached scipy-1.10.1-cp39-cp39-macosx_12_0_arm64.whl (28.9 MB)\n",
      "Collecting torchtext>=0.7.0\n",
      "  Downloading torchtext-0.15.2-cp39-cp39-macosx_11_0_arm64.whl (2.1 MB)\n",
      "\u001b[2K     \u001b[90m━━━━━━━━━━━━━━━━━━━━━━━━━━━━━━━━━━━━━━━━\u001b[0m \u001b[32m2.1/2.1 MB\u001b[0m \u001b[31m8.5 MB/s\u001b[0m eta \u001b[36m0:00:00\u001b[0m00:01\u001b[0m00:01\u001b[0m\n",
      "\u001b[?25hCollecting torch>=1.6.0\n",
      "  Downloading torch-2.0.1-cp39-none-macosx_11_0_arm64.whl (55.8 MB)\n",
      "\u001b[2K     \u001b[90m━━━━━━━━━━━━━━━━━━━━━━━━━━━━━━━━━━━━━━━━\u001b[0m \u001b[32m55.8/55.8 MB\u001b[0m \u001b[31m8.4 MB/s\u001b[0m eta \u001b[36m0:00:00\u001b[0m00:01\u001b[0m00:01\u001b[0m\n",
      "\u001b[?25hRequirement already satisfied: ptyprocess~=0.7.0 in /Users/kasparbeelen/anaconda3/envs/ce/lib/python3.9/site-packages (from colab-xterm~=0.1.2->-r requirements.txt (line 5)) (0.7.0)\n",
      "Requirement already satisfied: tornado>5.1 in /Users/kasparbeelen/anaconda3/envs/ce/lib/python3.9/site-packages (from colab-xterm~=0.1.2->-r requirements.txt (line 5)) (6.1)\n",
      "Collecting brotli>=1.0.7\n",
      "  Downloading Brotli-1.0.9-cp39-cp39-macosx_10_9_universal2.whl (786 kB)\n",
      "\u001b[2K     \u001b[90m━━━━━━━━━━━━━━━━━━━━━━━━━━━━━━━━━━━━━━━\u001b[0m \u001b[32m786.7/786.7 kB\u001b[0m \u001b[31m8.5 MB/s\u001b[0m eta \u001b[36m0:00:00\u001b[0ma \u001b[36m0:00:01\u001b[0m\n",
      "\u001b[?25hCollecting starlette>=0.13.4\n",
      "  Downloading starlette-0.27.0-py3-none-any.whl (66 kB)\n",
      "\u001b[2K     \u001b[90m━━━━━━━━━━━━━━━━━━━━━━━━━━━━━━━━━━━━━━━━\u001b[0m \u001b[32m67.0/67.0 kB\u001b[0m \u001b[31m8.2 MB/s\u001b[0m eta \u001b[36m0:00:00\u001b[0m\n",
      "\u001b[?25h  Downloading starlette-0.17.1-py3-none-any.whl (58 kB)\n",
      "\u001b[2K     \u001b[90m━━━━━━━━━━━━━━━━━━━━━━━━━━━━━━━━━━━━━━━━\u001b[0m \u001b[32m58.4/58.4 kB\u001b[0m \u001b[31m4.0 MB/s\u001b[0m eta \u001b[36m0:00:00\u001b[0m\n",
      "\u001b[?25hRequirement already satisfied: anyio<4,>=3.0.0 in /Users/kasparbeelen/anaconda3/envs/ce/lib/python3.9/site-packages (from starlette>=0.13.4->brotli-asgi~=1.1.0->argilla[listeners,server]==1.1.1->-r requirements.txt (line 1)) (3.5.0)\n",
      "Requirement already satisfied: charset-normalizer<4.0,>=2.0 in /Users/kasparbeelen/anaconda3/envs/ce/lib/python3.9/site-packages (from aiohttp->datasets~=2.7.1->-r requirements.txt (line 3)) (2.0.4)\n",
      "Collecting multidict<7.0,>=4.5\n",
      "  Using cached multidict-6.0.4-cp39-cp39-macosx_11_0_arm64.whl (29 kB)\n",
      "Collecting frozenlist>=1.1.1\n",
      "  Using cached frozenlist-1.3.3-cp39-cp39-macosx_11_0_arm64.whl (35 kB)\n",
      "Collecting async-timeout<5.0,>=4.0.0a3\n",
      "  Using cached async_timeout-4.0.2-py3-none-any.whl (5.8 kB)\n",
      "Collecting yarl<2.0,>=1.0\n",
      "  Using cached yarl-1.9.2-cp39-cp39-macosx_11_0_arm64.whl (62 kB)\n",
      "Collecting aiosignal>=1.1.2\n",
      "  Using cached aiosignal-1.3.1-py3-none-any.whl (7.6 kB)\n",
      "Requirement already satisfied: attrs>=17.3.0 in /Users/kasparbeelen/anaconda3/envs/ce/lib/python3.9/site-packages (from aiohttp->datasets~=2.7.1->-r requirements.txt (line 3)) (22.1.0)\n",
      "Collecting httpcore==0.11.*\n",
      "  Downloading httpcore-0.11.1-py3-none-any.whl (52 kB)\n",
      "\u001b[2K     \u001b[90m━━━━━━━━━━━━━━━━━━━━━━━━━━━━━━━━━━━━━━━━\u001b[0m \u001b[32m52.8/52.8 kB\u001b[0m \u001b[31m5.5 MB/s\u001b[0m eta \u001b[36m0:00:00\u001b[0m\n",
      "\u001b[?25hRequirement already satisfied: certifi in /Users/kasparbeelen/anaconda3/envs/ce/lib/python3.9/site-packages (from httpx~=0.15.0->argilla[listeners,server]==1.1.1->-r requirements.txt (line 1)) (2023.5.7)\n",
      "Collecting rfc3986[idna2008]<2,>=1.3\n",
      "  Downloading rfc3986-1.5.0-py2.py3-none-any.whl (31 kB)\n",
      "Requirement already satisfied: sniffio in /Users/kasparbeelen/anaconda3/envs/ce/lib/python3.9/site-packages (from httpx~=0.15.0->argilla[listeners,server]==1.1.1->-r requirements.txt (line 1)) (1.2.0)\n",
      "Collecting h11<0.10,>=0.8\n",
      "  Downloading h11-0.9.0-py2.py3-none-any.whl (53 kB)\n",
      "\u001b[2K     \u001b[90m━━━━━━━━━━━━━━━━━━━━━━━━━━━━━━━━━━━━━━━━\u001b[0m \u001b[32m53.6/53.6 kB\u001b[0m \u001b[31m4.8 MB/s\u001b[0m eta \u001b[36m0:00:00\u001b[0m\n",
      "\u001b[?25hRequirement already satisfied: typing-extensions>=3.7.4.3 in /Users/kasparbeelen/anaconda3/envs/ce/lib/python3.9/site-packages (from huggingface-hub<1.0,>=0.10.0->transformers[sentencepiece]~=4.25.1->-r requirements.txt (line 2)) (4.5.0)\n",
      "Requirement already satisfied: ply>=3.11 in /Users/kasparbeelen/anaconda3/envs/ce/lib/python3.9/site-packages (from luqum~=0.11.0->argilla[listeners,server]==1.1.1->-r requirements.txt (line 1)) (3.11)\n",
      "Requirement already satisfied: urllib3<2,>=1.21.1 in /Users/kasparbeelen/anaconda3/envs/ce/lib/python3.9/site-packages (from opensearch-py~=1.0.0->argilla[listeners,server]==1.1.1->-r requirements.txt (line 1)) (1.26.15)\n",
      "Requirement already satisfied: pytz>=2020.1 in /Users/kasparbeelen/anaconda3/envs/ce/lib/python3.9/site-packages (from pandas<2.0.0,>=1.0.0->argilla[listeners,server]==1.1.1->-r requirements.txt (line 1)) (2022.7)\n",
      "Collecting bcrypt>=3.1.0\n",
      "  Downloading bcrypt-4.0.1-cp36-abi3-macosx_10_10_universal2.whl (473 kB)\n",
      "\u001b[2K     \u001b[90m━━━━━━━━━━━━━━━━━━━━━━━━━━━━━━━━━━━━━━━\u001b[0m \u001b[32m473.4/473.4 kB\u001b[0m \u001b[31m7.9 MB/s\u001b[0m eta \u001b[36m0:00:00\u001b[0ma \u001b[36m0:00:01\u001b[0m\n",
      "\u001b[?25hCollecting rsa\n",
      "  Downloading rsa-4.9-py3-none-any.whl (34 kB)\n",
      "Collecting ecdsa<0.15\n",
      "  Downloading ecdsa-0.14.1-py2.py3-none-any.whl (79 kB)\n",
      "\u001b[2K     \u001b[90m━━━━━━━━━━━━━━━━━━━━━━━━━━━━━━━━━━━━━━━━\u001b[0m \u001b[32m79.4/79.4 kB\u001b[0m \u001b[31m5.7 MB/s\u001b[0m eta \u001b[36m0:00:00\u001b[0m\n",
      "\u001b[?25hCollecting pyasn1\n",
      "  Downloading pyasn1-0.5.0-py2.py3-none-any.whl (83 kB)\n",
      "\u001b[2K     \u001b[90m━━━━━━━━━━━━━━━━━━━━━━━━━━━━━━━━━━━━━━━━\u001b[0m \u001b[32m83.9/83.9 kB\u001b[0m \u001b[31m6.7 MB/s\u001b[0m eta \u001b[36m0:00:00\u001b[0m\n",
      "\u001b[?25hRequirement already satisfied: six<2.0 in /Users/kasparbeelen/anaconda3/envs/ce/lib/python3.9/site-packages (from python-jose[cryptography]~=3.2.0->argilla[listeners,server]==1.1.1->-r requirements.txt (line 1)) (1.16.0)\n",
      "Requirement already satisfied: cryptography in /Users/kasparbeelen/anaconda3/envs/ce/lib/python3.9/site-packages (from python-jose[cryptography]~=3.2.0->argilla[listeners,server]==1.1.1->-r requirements.txt (line 1)) (39.0.1)\n",
      "Requirement already satisfied: idna<4,>=2.5 in /Users/kasparbeelen/anaconda3/envs/ce/lib/python3.9/site-packages (from requests~=2.7->segment-analytics-python==2.2.0->argilla[listeners,server]==1.1.1->-r requirements.txt (line 1)) (3.4)\n",
      "Collecting threadpoolctl>=2.0.0\n",
      "  Using cached threadpoolctl-3.1.0-py3-none-any.whl (14 kB)\n",
      "Collecting joblib>=1.1.1\n",
      "  Using cached joblib-1.2.0-py3-none-any.whl (297 kB)\n",
      "Collecting sympy\n",
      "  Downloading sympy-1.12-py3-none-any.whl (5.7 MB)\n",
      "\u001b[2K     \u001b[90m━━━━━━━━━━━━━━━━━━━━━━━━━━━━━━━━━━━━━━━━\u001b[0m \u001b[32m5.7/5.7 MB\u001b[0m \u001b[31m8.9 MB/s\u001b[0m eta \u001b[36m0:00:00\u001b[0m00:01\u001b[0m00:01\u001b[0m\n",
      "\u001b[?25hRequirement already satisfied: jinja2 in /Users/kasparbeelen/anaconda3/envs/ce/lib/python3.9/site-packages (from torch>=1.6.0->small-text[transformers]~=1.1.1->-r requirements.txt (line 4)) (3.1.2)\n",
      "Collecting networkx\n",
      "  Using cached networkx-3.1-py3-none-any.whl (2.1 MB)\n",
      "Collecting torchdata==0.6.1\n",
      "  Downloading torchdata-0.6.1-cp39-cp39-macosx_11_0_arm64.whl (1.7 MB)\n",
      "\u001b[2K     \u001b[90m━━━━━━━━━━━━━━━━━━━━━━━━━━━━━━━━━━━━━━━━\u001b[0m \u001b[32m1.7/1.7 MB\u001b[0m \u001b[31m8.9 MB/s\u001b[0m eta \u001b[36m0:00:00\u001b[0ma \u001b[36m0:00:01\u001b[0mm\n",
      "\u001b[?25hCollecting click>=7.0\n",
      "  Downloading click-8.1.3-py3-none-any.whl (96 kB)\n",
      "\u001b[2K     \u001b[90m━━━━━━━━━━━━━━━━━━━━━━━━━━━━━━━━━━━━━━━━\u001b[0m \u001b[32m96.6/96.6 kB\u001b[0m \u001b[31m6.1 MB/s\u001b[0m eta \u001b[36m0:00:00\u001b[0m\n",
      "\u001b[?25hCollecting asgiref>=3.4.0\n",
      "  Downloading asgiref-3.6.0-py3-none-any.whl (23 kB)\n",
      "Collecting httptools>=0.4.0\n",
      "  Downloading httptools-0.5.0-cp39-cp39-macosx_10_9_universal2.whl (231 kB)\n",
      "\u001b[2K     \u001b[90m━━━━━━━━━━━━━━━━━━━━━━━━━━━━━━━━━━━━━━━\u001b[0m \u001b[32m231.5/231.5 kB\u001b[0m \u001b[31m8.9 MB/s\u001b[0m eta \u001b[36m0:00:00\u001b[0m\n",
      "\u001b[?25hCollecting watchgod>=0.6\n",
      "  Downloading watchgod-0.8.2-py3-none-any.whl (12 kB)\n",
      "Collecting python-dotenv>=0.13\n",
      "  Downloading python_dotenv-1.0.0-py3-none-any.whl (19 kB)\n",
      "Collecting uvloop!=0.15.0,!=0.15.1,>=0.14.0\n",
      "  Downloading uvloop-0.17.0-cp39-cp39-macosx_10_9_universal2.whl (2.2 MB)\n",
      "\u001b[2K     \u001b[90m━━━━━━━━━━━━━━━━━━━━━━━━━━━━━━━━━━━━━━━━\u001b[0m \u001b[32m2.2/2.2 MB\u001b[0m \u001b[31m8.7 MB/s\u001b[0m eta \u001b[36m0:00:00\u001b[0ma \u001b[36m0:00:01\u001b[0m\n",
      "\u001b[?25hCollecting websockets>=10.0\n",
      "  Downloading websockets-11.0.3-cp39-cp39-macosx_11_0_arm64.whl (121 kB)\n",
      "\u001b[2K     \u001b[90m━━━━━━━━━━━━━━━━━━━━━━━━━━━━━━━━━━━━━━\u001b[0m \u001b[32m121.0/121.0 kB\u001b[0m \u001b[31m10.1 MB/s\u001b[0m eta \u001b[36m0:00:00\u001b[0m\n",
      "\u001b[?25hRequirement already satisfied: cffi>=1.12 in /Users/kasparbeelen/anaconda3/envs/ce/lib/python3.9/site-packages (from cryptography->python-jose[cryptography]~=3.2.0->argilla[listeners,server]==1.1.1->-r requirements.txt (line 1)) (1.15.1)\n",
      "Requirement already satisfied: MarkupSafe>=2.0 in /Users/kasparbeelen/anaconda3/envs/ce/lib/python3.9/site-packages (from jinja2->torch>=1.6.0->small-text[transformers]~=1.1.1->-r requirements.txt (line 4)) (2.1.1)\n"
     ]
    },
    {
     "name": "stdout",
     "output_type": "stream",
     "text": [
      "Collecting mpmath>=0.19\n",
      "  Using cached mpmath-1.3.0-py3-none-any.whl (536 kB)\n",
      "Requirement already satisfied: pycparser in /Users/kasparbeelen/anaconda3/envs/ce/lib/python3.9/site-packages (from cffi>=1.12->cryptography->python-jose[cryptography]~=3.2.0->argilla[listeners,server]==1.1.1->-r requirements.txt (line 1)) (2.21)\n",
      "Building wheels for collected packages: pyngrok, prodict, psutil, PyYAML, wrapt\n",
      "  Building wheel for pyngrok (setup.py) ... \u001b[?25ldone\n",
      "\u001b[?25h  Created wheel for pyngrok: filename=pyngrok-5.2.3-py3-none-any.whl size=19864 sha256=d0449736cdec3fe86727db7058c1380d2ae761dacdaa4193f947e68e55275693\n",
      "  Stored in directory: /Users/kasparbeelen/Library/Caches/pip/wheels/7b/26/1d/fc3a749c956dff3c7abc8b07a8b6917a7ee926eeaf0bf09ad1\n",
      "  Building wheel for prodict (setup.py) ... \u001b[?25ldone\n",
      "\u001b[?25h  Created wheel for prodict: filename=prodict-0.8.18-py3-none-any.whl size=4203 sha256=bf67ccd3dac132d98d4b4be5d5a594b5bc8f2f49d8538adcc875ae8e538e47b1\n",
      "  Stored in directory: /Users/kasparbeelen/Library/Caches/pip/wheels/da/0c/ae/1d7e040733ae90d0356f0db8d54e7b36e6736516ff909b407e\n",
      "  Building wheel for psutil (setup.py) ... \u001b[?25ldone\n",
      "\u001b[?25h  Created wheel for psutil: filename=psutil-5.8.0-cp39-cp39-macosx_11_0_arm64.whl size=234619 sha256=fcfe4ad9e555a2ebdd88adaf1a7c2bf4ed41cfa370d28c320673ff9a20bfd4b8\n",
      "  Stored in directory: /Users/kasparbeelen/Library/Caches/pip/wheels/ee/66/e6/aecfd75e0bd554fc1b4dd982e9088dbdc79d10c3601cf3d7f3\n",
      "  Building wheel for PyYAML (pyproject.toml) ... \u001b[?25ldone\n",
      "\u001b[?25h  Created wheel for PyYAML: filename=PyYAML-5.4.1-cp39-cp39-macosx_11_0_arm64.whl size=45660 sha256=0a4fb6cd5131ed49ff0a0ddc12f479a4022645509e32750f950ae67b0d31ed2e\n",
      "  Stored in directory: /Users/kasparbeelen/Library/Caches/pip/wheels/b7/a5/c4/504d913c2a55bb09c607541578ec5f844d1ff33467abe93ba5\n",
      "  Building wheel for wrapt (setup.py) ... \u001b[?25ldone\n",
      "\u001b[?25h  Created wheel for wrapt: filename=wrapt-1.13.3-cp39-cp39-macosx_11_0_arm64.whl size=32869 sha256=7c7c29b605633f33d5951d8bdf25b1460deb1e34ed5ad719dacff1dce0d7aa43\n",
      "  Stored in directory: /Users/kasparbeelen/Library/Caches/pip/wheels/f9/6e/ed/b9a64c8281ff2ee42402497ff3c67f4abd39f552efecc309a9\n",
      "Successfully built pyngrok prodict psutil PyYAML wrapt\n",
      "Installing collected packages: tokenizers, stopwordsiso, sentencepiece, rfc3986, prodict, passlib, mpmath, monotonic, h11, brotli, aiofiles, xxhash, wrapt, websockets, uvloop, tqdm, threadpoolctl, sympy, smart-open, schedule, regex, PyYAML, python-multipart, python-dotenv, pydantic, pyasn1, psutil, protobuf, opensearch-py, numpy, networkx, multidict, luqum, joblib, httptools, httpcore, fsspec, frozenlist, filelock, ecdsa, dill, colab-xterm, click, bcrypt, backoff, async-timeout, asgiref, yarl, watchgod, uvicorn, torch, starlette, segment-analytics-python, scipy, rsa, responses, pyngrok, pyarrow, pandas, multiprocess, huggingface-hub, httpx, deprecated, aiosignal, transformers, torchdata, scikit-learn, python-jose, fastapi, brotli-asgi, argilla, aiohttp, torchtext, small-text, datasets\n",
      "Successfully installed PyYAML-5.4.1 aiofiles-0.6.0 aiohttp-3.8.4 aiosignal-1.3.1 argilla-1.1.1 asgiref-3.6.0 async-timeout-4.0.2 backoff-1.11.1 bcrypt-4.0.1 brotli-1.0.9 brotli-asgi-1.1.0 click-8.1.3 colab-xterm-0.1.2 datasets-2.7.1 deprecated-1.2.13 dill-0.3.6 ecdsa-0.14.1 fastapi-0.75.2 filelock-3.12.0 frozenlist-1.3.3 fsspec-2023.5.0 h11-0.9.0 httpcore-0.11.1 httptools-0.5.0 httpx-0.15.5 huggingface-hub-0.14.1 joblib-1.2.0 luqum-0.11.0 monotonic-1.6 mpmath-1.3.0 multidict-6.0.4 multiprocess-0.70.14 networkx-3.1 numpy-1.24.3 opensearch-py-1.0.0 pandas-1.5.3 passlib-1.7.4 prodict-0.8.18 protobuf-3.20.2 psutil-5.8.0 pyarrow-12.0.0 pyasn1-0.5.0 pydantic-1.10.7 pyngrok-5.2.3 python-dotenv-1.0.0 python-jose-3.2.0 python-multipart-0.0.6 regex-2023.5.5 responses-0.18.0 rfc3986-1.5.0 rsa-4.9 schedule-1.1.0 scikit-learn-1.2.2 scipy-1.10.1 segment-analytics-python-2.2.0 sentencepiece-0.1.99 small-text-1.1.1 smart-open-6.3.0 starlette-0.17.1 stopwordsiso-0.6.1 sympy-1.12 threadpoolctl-3.1.0 tokenizers-0.13.3 torch-2.0.1 torchdata-0.6.1 torchtext-0.15.2 tqdm-4.65.0 transformers-4.25.1 uvicorn-0.17.6 uvloop-0.17.0 watchgod-0.8.2 websockets-11.0.3 wrapt-1.13.3 xxhash-3.2.0 yarl-1.9.2\n"
     ]
    }
   ],
   "source": [
    "# install packages\n",
    "!pip install -r requirements.txt"
   ]
  },
  {
   "cell_type": "code",
   "execution_count": 2,
   "id": "f6f61ca3",
   "metadata": {},
   "outputs": [
    {
     "name": "stdout",
     "output_type": "stream",
     "text": [
      "zsh:1: command not found: nvidia-smi\r\n"
     ]
    }
   ],
   "source": [
    "# info on the hardware you are using - either a CPU or GPU\n",
    "!nvidia-smi"
   ]
  },
  {
   "cell_type": "code",
   "execution_count": 3,
   "id": "e539da46",
   "metadata": {},
   "outputs": [
    {
     "name": "stdout",
     "output_type": "stream",
     "text": [
      "\n",
      "\n",
      "Your runtime has 17.2 gigabytes of available RAM\n",
      "\n"
     ]
    }
   ],
   "source": [
    "# info on available ram\n",
    "from psutil import virtual_memory\n",
    "ram_gb = virtual_memory().total / 1e9\n",
    "print('\\n\\nYour runtime has {:.1f} gigabytes of available RAM\\n'.format(ram_gb))"
   ]
  },
  {
   "cell_type": "markdown",
   "id": "0574d503",
   "metadata": {},
   "source": [
    "Argilla requires elastic search installation."
   ]
  },
  {
   "cell_type": "markdown",
   "id": "8ce7ec7d",
   "metadata": {},
   "source": [
    "## Local install\n",
    "\n",
    "Download [Docker Desktop](https://docs.docker.com/desktop/install/mac-install/)."
   ]
  },
  {
   "cell_type": "code",
   "execution_count": 8,
   "id": "0f1eed0e",
   "metadata": {},
   "outputs": [
    {
     "name": "stdout",
     "output_type": "stream",
     "text": [
      "zsh:1: command not found: docker\r\n"
     ]
    }
   ],
   "source": [
    "!docker run -d --name quickstart -p 6900:6900 argilla/argilla-quickstart:latest"
   ]
  },
  {
   "cell_type": "markdown",
   "id": "5d5bfbf0",
   "metadata": {},
   "source": [
    "Go to [http://localhost:6900](http://localhost:6900) and log in with username admin and password 12345678. "
   ]
  },
  {
   "cell_type": "markdown",
   "id": "a7e2602f",
   "metadata": {},
   "source": [
    "## On Colab"
   ]
  },
  {
   "cell_type": "code",
   "execution_count": 9,
   "id": "5edee6a1",
   "metadata": {},
   "outputs": [],
   "source": [
    "%%bash\n",
    "\n",
    "wget https://artifacts.elastic.co/downloads/elasticsearch/elasticsearch-7.10.2-linux-x86_64.tar.gz -q\n",
    "tar -xzf elasticsearch-7.10.2-linux-x86_64.tar.gz\n",
    "chown -R daemon:daemon elasticsearch-7.10.2"
   ]
  },
  {
   "cell_type": "code",
   "execution_count": null,
   "id": "30bd579a",
   "metadata": {},
   "outputs": [],
   "source": [
    "%%bash --bg\n",
    "\n",
    "sudo -u daemon -- elasticsearch-7.10.2/bin/elasticsearch"
   ]
  },
  {
   "cell_type": "code",
   "execution_count": null,
   "id": "ae31ff8c",
   "metadata": {},
   "outputs": [],
   "source": [
    "import time\n",
    "time.sleep(30)  # sleeping to give ES time to set up. Otherwise downstream code will bug"
   ]
  },
  {
   "cell_type": "code",
   "execution_count": null,
   "id": "3669b9ec",
   "metadata": {},
   "outputs": [],
   "source": [
    "# create a terminal to run Argilla with, in case you don't have Colab Pro.\n",
    "# type \"python -m argilla\" into the terminal that appears below this code cell.\n",
    "%load_ext colabxterm\n",
    "%xterm"
   ]
  },
  {
   "cell_type": "markdown",
   "id": "ca293f0e",
   "metadata": {},
   "source": [
    " Create a ngrok free account by following the instructions [here](https://ngrok.com/). \n",
    " \n",
    " Create an [API key](https://dashboard.ngrok.com/api) and run the code below"
   ]
  },
  {
   "cell_type": "code",
   "execution_count": 10,
   "id": "ae3b8792",
   "metadata": {},
   "outputs": [
    {
     "name": "stdout",
     "output_type": "stream",
     "text": [
      "Enter your authtoken, which can be copied from https://dashboard.ngrok.com/auth\n",
      "You need to create a free ngrok account to get an authtoken. The token looks something like this: ASDO1283YZaDu95vysXYIUXZXYRR_54YfASDIb8cpNfVoz349587\n",
      "········\n"
     ]
    }
   ],
   "source": [
    "import getpass\n",
    "from pyngrok import ngrok, conf\n",
    "\n",
    "print(\"Enter your authtoken, which can be copied from https://dashboard.ngrok.com/auth\")\n",
    "print(\"You need to create a free ngrok account to get an authtoken. The token looks something like this: ASDO1283YZaDu95vysXYIUXZXYRR_54YfASDIb8cpNfVoz349587\")\n",
    "conf.get_default().auth_token = getpass.getpass()\n",
    "# if the above does not work, you can try:\n",
    "#ngrok.set_auth_token(\"<INSER_YOUR_NGROK_AUTHTOKEN>\")"
   ]
  },
  {
   "cell_type": "code",
   "execution_count": null,
   "id": "3a6fb6b1",
   "metadata": {},
   "outputs": [],
   "source": [
    "# disconnect all existing tunnels to avoid issues when rerunning cells\n",
    "[ngrok.disconnect(tunnel.public_url) for tunnel in ngrok.get_tunnels()]\n",
    "\n",
    "# create the public link\n",
    "# ! check whether this is actually the localhost port Argilla is running on via the terminal above\n",
    "ngrok_tunnel = ngrok.connect(6900)  # insert the port number Argilla is running on. e.g. 6900 if the terminal displays something like \"Uvicorn running on http://0.0.0.0:6900\"\n",
    "print(\"You can now access the Argilla localhost with the public link below. (It should look something like 'http://X03b-34-XXX-237-25.ngrok.io')\\n\")\n",
    "print(f\"Your ngrok public link: {ngrok_tunnel}\\n\")\n",
    "print(\"After clicking on the link, there will be a warning, which you can ignore\")\n",
    "print(\"You can then login with the default agrilla username 'argilla' and password '1234'\")"
   ]
  },
  {
   "cell_type": "markdown",
   "id": "9493709b",
   "metadata": {},
   "source": [
    "## Loading Data and Annotation"
   ]
  },
  {
   "cell_type": "code",
   "execution_count": 11,
   "id": "0fb48dc3",
   "metadata": {},
   "outputs": [
    {
     "data": {
      "application/vnd.jupyter.widget-view+json": {
       "model_id": "dbec18cb2ac3411a82a35dd2f0bf9445",
       "version_major": 2,
       "version_minor": 0
      },
      "text/plain": [
       "Downloading builder script:   0%|          | 0.00/5.09k [00:00<?, ?B/s]"
      ]
     },
     "metadata": {},
     "output_type": "display_data"
    },
    {
     "data": {
      "application/vnd.jupyter.widget-view+json": {
       "model_id": "b4bfda12055d4c219ad64d50301fa59b",
       "version_major": 2,
       "version_minor": 0
      },
      "text/plain": [
       "Downloading metadata:   0%|          | 0.00/3.34k [00:00<?, ?B/s]"
      ]
     },
     "metadata": {},
     "output_type": "display_data"
    },
    {
     "data": {
      "application/vnd.jupyter.widget-view+json": {
       "model_id": "c337b2b332014c718aacb71e6d0b5a38",
       "version_major": 2,
       "version_minor": 0
      },
      "text/plain": [
       "Downloading readme:   0%|          | 0.00/10.6k [00:00<?, ?B/s]"
      ]
     },
     "metadata": {},
     "output_type": "display_data"
    },
    {
     "name": "stdout",
     "output_type": "stream",
     "text": [
      "Downloading and preparing dataset trec/default to /Users/kasparbeelen/.cache/huggingface/datasets/trec/default/2.0.0/f2469cab1b5fceec7249fda55360dfdbd92a7a5b545e91ea0f78ad108ffac1c2...\n"
     ]
    },
    {
     "data": {
      "application/vnd.jupyter.widget-view+json": {
       "model_id": "b7a2a0b4514d4af1a26eb3e327e3e195",
       "version_major": 2,
       "version_minor": 0
      },
      "text/plain": [
       "Downloading data files:   0%|          | 0/2 [00:00<?, ?it/s]"
      ]
     },
     "metadata": {},
     "output_type": "display_data"
    },
    {
     "data": {
      "application/vnd.jupyter.widget-view+json": {
       "model_id": "143195db22164d57886b73c94a853546",
       "version_major": 2,
       "version_minor": 0
      },
      "text/plain": [
       "Downloading data:   0%|          | 0.00/336k [00:00<?, ?B/s]"
      ]
     },
     "metadata": {},
     "output_type": "display_data"
    },
    {
     "data": {
      "application/vnd.jupyter.widget-view+json": {
       "model_id": "5ba05c4b13a44d41bdd14e7ac9be5e6e",
       "version_major": 2,
       "version_minor": 0
      },
      "text/plain": [
       "Downloading data:   0%|          | 0.00/23.4k [00:00<?, ?B/s]"
      ]
     },
     "metadata": {},
     "output_type": "display_data"
    },
    {
     "data": {
      "application/vnd.jupyter.widget-view+json": {
       "model_id": "",
       "version_major": 2,
       "version_minor": 0
      },
      "text/plain": [
       "Generating train split:   0%|          | 0/5452 [00:00<?, ? examples/s]"
      ]
     },
     "metadata": {},
     "output_type": "display_data"
    },
    {
     "data": {
      "application/vnd.jupyter.widget-view+json": {
       "model_id": "",
       "version_major": 2,
       "version_minor": 0
      },
      "text/plain": [
       "Generating test split:   0%|          | 0/500 [00:00<?, ? examples/s]"
      ]
     },
     "metadata": {},
     "output_type": "display_data"
    },
    {
     "name": "stdout",
     "output_type": "stream",
     "text": [
      "Dataset trec downloaded and prepared to /Users/kasparbeelen/.cache/huggingface/datasets/trec/default/2.0.0/f2469cab1b5fceec7249fda55360dfdbd92a7a5b545e91ea0f78ad108ffac1c2. Subsequent calls will reuse this data.\n"
     ]
    },
    {
     "data": {
      "application/vnd.jupyter.widget-view+json": {
       "model_id": "f05863ba795e4c8880ede11064140eea",
       "version_major": 2,
       "version_minor": 0
      },
      "text/plain": [
       "  0%|          | 0/2 [00:00<?, ?it/s]"
      ]
     },
     "metadata": {},
     "output_type": "display_data"
    }
   ],
   "source": [
    "# load dataset\n",
    "import datasets\n",
    "dataset_name = \"trec\"\n",
    "dataset_hf = datasets.load_dataset(dataset_name, version=datasets.Version(\"2.0.0\"))\n",
    "# we work with only a sixth of the texts of the dataset for faster testing\n",
    "dataset_hf[\"train\"] = dataset_hf[\"train\"].shard(num_shards=6, index=0)\n"
   ]
  },
  {
   "cell_type": "code",
   "execution_count": 12,
   "id": "b04b53b1",
   "metadata": {},
   "outputs": [
    {
     "name": "stdout",
     "output_type": "stream",
     "text": [
      "No GPU is available, we therefore use the small model 'prajjwal1/bert-tiny' for the active learning loop.\n",
      "\n"
     ]
    },
    {
     "data": {
      "application/vnd.jupyter.widget-view+json": {
       "model_id": "322afeb76fb4479093f68fef58221d34",
       "version_major": 2,
       "version_minor": 0
      },
      "text/plain": [
       "Downloading (…)lve/main/config.json:   0%|          | 0.00/285 [00:00<?, ?B/s]"
      ]
     },
     "metadata": {},
     "output_type": "display_data"
    },
    {
     "data": {
      "application/vnd.jupyter.widget-view+json": {
       "model_id": "9274be18e96741fb975f2cfe668f3e3e",
       "version_major": 2,
       "version_minor": 0
      },
      "text/plain": [
       "Downloading (…)solve/main/vocab.txt:   0%|          | 0.00/232k [00:00<?, ?B/s]"
      ]
     },
     "metadata": {},
     "output_type": "display_data"
    }
   ],
   "source": [
    "## choose the transformer and load tokenizer\n",
    "import torch\n",
    "from transformers import AutoTokenizer\n",
    "\n",
    "# Choose transformer model: In non-gpu environments we use a tiny model to increase efficiency\n",
    "if not torch.cuda.is_available():\n",
    "    transformer_model = \"prajjwal1/bert-tiny\"\n",
    "    print(f\"No GPU is available, we therefore use the small model '{transformer_model}' for the active learning loop.\\n\")\n",
    "else:\n",
    "    transformer_model = \"microsoft/deberta-v3-xsmall\"  #\"bert-base-uncased\"\n",
    "    print(f\"A GPU is available, we can therefore use '{transformer_model}' for the active learning loop.\\n\")\n",
    "\n",
    "# Init tokenizer\n",
    "tokenizer = AutoTokenizer.from_pretrained(transformer_model)\n"
   ]
  },
  {
   "cell_type": "code",
   "execution_count": 13,
   "id": "e7a5ddab",
   "metadata": {},
   "outputs": [
    {
     "name": "stderr",
     "output_type": "stream",
     "text": [
      "/Users/kasparbeelen/anaconda3/envs/ce/lib/python3.9/site-packages/small_text/utils/annotations.py:67: ExperimentalWarning: The function from_arrays is experimental and maybe subject to change soon.\n",
      "  warnings.warn(f'The {subject} {func_or_class.__name__} is experimental '\n"
     ]
    }
   ],
   "source": [
    "## create small_text transformersdataset object\n",
    "import numpy as np\n",
    "from small_text import TransformersDataset\n",
    "\n",
    "num_classes = dataset_hf[\"train\"].features[\"coarse_label\"].num_classes\n",
    "target_labels = np.arange(num_classes)\n",
    "\n",
    "train_text = [row[\"text\"] for row in dataset_hf[\"train\"]]\n",
    "train_labels = np.array([row[\"coarse_label\"] for row in dataset_hf[\"train\"]])\n",
    "\n",
    "# Create the dataset for small-text\n",
    "dataset_st = TransformersDataset.from_arrays(\n",
    "    train_text, train_labels, tokenizer, target_labels=target_labels\n",
    ")\n",
    "\n",
    "# Create test dataset\n",
    "test_text = [row[\"text\"] for row in dataset_hf[\"test\"]]\n",
    "test_labels = np.array([row[\"coarse_label\"] for row in dataset_hf[\"test\"]])\n",
    "\n",
    "dataset_test = TransformersDataset.from_arrays(\n",
    "    test_text, test_labels, tokenizer, target_labels=np.arange(num_classes)\n",
    ")\n",
    "\n"
   ]
  },
  {
   "cell_type": "code",
   "execution_count": 17,
   "id": "f01ae901",
   "metadata": {},
   "outputs": [
    {
     "name": "stdout",
     "output_type": "stream",
     "text": [
      "Using device:  cpu\n"
     ]
    }
   ],
   "source": [
    "## setting up the active learner\n",
    "from small_text import (\n",
    "    BreakingTies,\n",
    "    PoolBasedActiveLearner,\n",
    "    TransformerBasedClassificationFactory,\n",
    "    TransformerModelArguments,\n",
    ")\n",
    "\n",
    "# Define our classifier\n",
    "device = \"cuda\" if torch.cuda.is_available() else \"cpu\"\n",
    "print(\"Using device: \", device)\n",
    "\n",
    "num_epochs = 5  # higher values of around 40 will probably improve performance on small datasets, but the active learning loop will take longer\n",
    "clf_factory = TransformerBasedClassificationFactory(\n",
    "    TransformerModelArguments(transformer_model),\n",
    "    num_classes=num_classes,\n",
    "    kwargs={\"device\": device, \"num_epochs\": num_epochs, \"lr\": 2e-05, \"mini_batch_size\": 8,\n",
    "            \"early_stopping_no_improvement\": 5}  # kwargs={\"device\": \"cuda\"}\n",
    ")\n",
    "\n",
    "\n",
    "# Define our query strategy\n",
    "query_strategy = BreakingTies()\n",
    "\n",
    "# Use the active learner with a pool containing all unlabeled data\n",
    "active_learner = PoolBasedActiveLearner(clf_factory, query_strategy, dataset_st)\n"
   ]
  },
  {
   "cell_type": "code",
   "execution_count": 18,
   "id": "fb8b4832",
   "metadata": {},
   "outputs": [],
   "source": [
    "## draw an initial sample for the first annotation round\n",
    "# https://small-text.readthedocs.io/en/v1.1.1/components/initialization.html\n",
    "from small_text import random_initialization, random_initialization_stratified, random_initialization_balanced\n",
    "import numpy as np\n",
    "\n",
    "# Fix seed for reproducibility\n",
    "np.random.seed(42)\n",
    "\n",
    "# Number of samples in our queried batches\n",
    "NUM_SAMPLES = 10\n",
    "\n",
    "# Draw an initial subset from the data pool\n",
    "#initial_indices = random_initialization(dataset_st, NUM_SAMPLES)\n",
    "#initial_indices = random_initialization_balanced(train_labels, NUM_SAMPLES)\n",
    "initial_indices = random_initialization_stratified(train_labels, NUM_SAMPLES)\n"
   ]
  },
  {
   "cell_type": "code",
   "execution_count": 20,
   "id": "00ec34c7",
   "metadata": {},
   "outputs": [
    {
     "ename": "UnauthorizedApiError",
     "evalue": "Argilla server returned an error with http status: 401\nError details: [{'code': 'argilla.api.errors::UnauthorizedError', 'params': {'detail': 'Could not validate credentials'}}]",
     "output_type": "error",
     "traceback": [
      "\u001b[0;31m---------------------------------------------------------------------------\u001b[0m",
      "\u001b[0;31mUnauthorizedApiError\u001b[0m                      Traceback (most recent call last)",
      "Input \u001b[0;32mIn [20]\u001b[0m, in \u001b[0;36m<cell line: 12>\u001b[0;34m()\u001b[0m\n\u001b[1;32m      9\u001b[0m settings \u001b[38;5;241m=\u001b[39m rg\u001b[38;5;241m.\u001b[39mTextClassificationSettings(label_schema\u001b[38;5;241m=\u001b[39mlabels)\n\u001b[1;32m     11\u001b[0m \u001b[38;5;66;03m# Create dataset with a label schema\u001b[39;00m\n\u001b[0;32m---> 12\u001b[0m \u001b[43mrg\u001b[49m\u001b[38;5;241;43m.\u001b[39;49m\u001b[43mconfigure_dataset\u001b[49m\u001b[43m(\u001b[49m\u001b[43mname\u001b[49m\u001b[38;5;241;43m=\u001b[39;49m\u001b[43mDATASET_NAME\u001b[49m\u001b[43m,\u001b[49m\u001b[43m \u001b[49m\u001b[43msettings\u001b[49m\u001b[38;5;241;43m=\u001b[39;49m\u001b[43msettings\u001b[49m\u001b[43m)\u001b[49m\n",
      "File \u001b[0;32m~/anaconda3/envs/ce/lib/python3.9/site-packages/argilla/datasets/__init__.py:36\u001b[0m, in \u001b[0;36mconfigure_dataset\u001b[0;34m(name, settings)\u001b[0m\n\u001b[1;32m     25\u001b[0m \u001b[38;5;28;01mdef\u001b[39;00m \u001b[38;5;21mconfigure_dataset\u001b[39m(name: \u001b[38;5;28mstr\u001b[39m, settings: Settings) \u001b[38;5;241m-\u001b[39m\u001b[38;5;241m>\u001b[39m \u001b[38;5;28;01mNone\u001b[39;00m:\n\u001b[1;32m     26\u001b[0m     \u001b[38;5;124;03m\"\"\"\u001b[39;00m\n\u001b[1;32m     27\u001b[0m \u001b[38;5;124;03m    Configures a dataset with a set of configured labels. If dataset does not\u001b[39;00m\n\u001b[1;32m     28\u001b[0m \u001b[38;5;124;03m    exist yet, an empty dataset will be created.\u001b[39;00m\n\u001b[0;32m   (...)\u001b[0m\n\u001b[1;32m     34\u001b[0m \u001b[38;5;124;03m        settings: The dataset settings\u001b[39;00m\n\u001b[1;32m     35\u001b[0m \u001b[38;5;124;03m    \"\"\"\u001b[39;00m\n\u001b[0;32m---> 36\u001b[0m     active_api \u001b[38;5;241m=\u001b[39m \u001b[43mapi\u001b[49m\u001b[38;5;241;43m.\u001b[39;49m\u001b[43mactive_api\u001b[49m\u001b[43m(\u001b[49m\u001b[43m)\u001b[49m\n\u001b[1;32m     37\u001b[0m     datasets \u001b[38;5;241m=\u001b[39m active_api\u001b[38;5;241m.\u001b[39mdatasets\n\u001b[1;32m     38\u001b[0m     datasets\u001b[38;5;241m.\u001b[39mconfigure(name, settings\u001b[38;5;241m=\u001b[39msettings)\n",
      "File \u001b[0;32m~/anaconda3/envs/ce/lib/python3.9/site-packages/argilla/client/api.py:661\u001b[0m, in \u001b[0;36mactive_api\u001b[0;34m()\u001b[0m\n\u001b[1;32m    659\u001b[0m \u001b[38;5;28;01mglobal\u001b[39;00m __ACTIVE_API__\n\u001b[1;32m    660\u001b[0m \u001b[38;5;28;01mif\u001b[39;00m __ACTIVE_API__ \u001b[38;5;129;01mis\u001b[39;00m \u001b[38;5;28;01mNone\u001b[39;00m:\n\u001b[0;32m--> 661\u001b[0m     __ACTIVE_API__ \u001b[38;5;241m=\u001b[39m \u001b[43mApi\u001b[49m\u001b[43m(\u001b[49m\u001b[43m)\u001b[49m\n\u001b[1;32m    662\u001b[0m \u001b[38;5;28;01mreturn\u001b[39;00m __ACTIVE_API__\n",
      "File \u001b[0;32m~/anaconda3/envs/ce/lib/python3.9/site-packages/argilla/client/api.py:157\u001b[0m, in \u001b[0;36mApi.__init__\u001b[0;34m(self, api_url, api_key, workspace, timeout, extra_headers)\u001b[0m\n\u001b[1;32m    148\u001b[0m headers \u001b[38;5;241m=\u001b[39m extra_headers \u001b[38;5;129;01mor\u001b[39;00m {}\n\u001b[1;32m    150\u001b[0m \u001b[38;5;28mself\u001b[39m\u001b[38;5;241m.\u001b[39m_client: AuthenticatedClient \u001b[38;5;241m=\u001b[39m AuthenticatedClient(\n\u001b[1;32m    151\u001b[0m     base_url\u001b[38;5;241m=\u001b[39mapi_url,\n\u001b[1;32m    152\u001b[0m     token\u001b[38;5;241m=\u001b[39mapi_key,\n\u001b[1;32m    153\u001b[0m     timeout\u001b[38;5;241m=\u001b[39mtimeout,\n\u001b[1;32m    154\u001b[0m     headers\u001b[38;5;241m=\u001b[39mheaders\u001b[38;5;241m.\u001b[39mcopy(),\n\u001b[1;32m    155\u001b[0m )\n\u001b[0;32m--> 157\u001b[0m \u001b[38;5;28mself\u001b[39m\u001b[38;5;241m.\u001b[39m_user: User \u001b[38;5;241m=\u001b[39m \u001b[43musers_api\u001b[49m\u001b[38;5;241;43m.\u001b[39;49m\u001b[43mwhoami\u001b[49m\u001b[43m(\u001b[49m\u001b[43mclient\u001b[49m\u001b[38;5;241;43m=\u001b[39;49m\u001b[38;5;28;43mself\u001b[39;49m\u001b[38;5;241;43m.\u001b[39;49m\u001b[43m_client\u001b[49m\u001b[43m)\u001b[49m\n\u001b[1;32m    158\u001b[0m \u001b[38;5;28;01mif\u001b[39;00m workspace \u001b[38;5;129;01mis\u001b[39;00m \u001b[38;5;129;01mnot\u001b[39;00m \u001b[38;5;28;01mNone\u001b[39;00m:\n\u001b[1;32m    159\u001b[0m     \u001b[38;5;28mself\u001b[39m\u001b[38;5;241m.\u001b[39mset_workspace(workspace)\n",
      "File \u001b[0;32m~/anaconda3/envs/ce/lib/python3.9/site-packages/argilla/client/sdk/users/api.py:23\u001b[0m, in \u001b[0;36mwhoami\u001b[0;34m(client)\u001b[0m\n\u001b[1;32m     22\u001b[0m \u001b[38;5;28;01mdef\u001b[39;00m \u001b[38;5;21mwhoami\u001b[39m(client: AuthenticatedClient) \u001b[38;5;241m-\u001b[39m\u001b[38;5;241m>\u001b[39m User:\n\u001b[0;32m---> 23\u001b[0m     response \u001b[38;5;241m=\u001b[39m \u001b[43mclient\u001b[49m\u001b[38;5;241;43m.\u001b[39;49m\u001b[43mget\u001b[49m\u001b[43m(\u001b[49m\u001b[38;5;124;43m\"\u001b[39;49m\u001b[38;5;124;43m/api/me\u001b[39;49m\u001b[38;5;124;43m\"\u001b[39;49m\u001b[43m)\u001b[49m\n\u001b[1;32m     24\u001b[0m     \u001b[38;5;28;01mreturn\u001b[39;00m User(\u001b[38;5;241m*\u001b[39m\u001b[38;5;241m*\u001b[39mresponse)\n",
      "File \u001b[0;32m~/anaconda3/envs/ce/lib/python3.9/site-packages/argilla/client/sdk/client.py:87\u001b[0m, in \u001b[0;36mClient.with_httpx_error_handler.<locals>.inner\u001b[0;34m(self, *args, **kwargs)\u001b[0m\n\u001b[1;32m     84\u001b[0m \u001b[38;5;129m@functools\u001b[39m\u001b[38;5;241m.\u001b[39mwraps(func)\n\u001b[1;32m     85\u001b[0m \u001b[38;5;28;01mdef\u001b[39;00m \u001b[38;5;21minner\u001b[39m(\u001b[38;5;28mself\u001b[39m, \u001b[38;5;241m*\u001b[39margs, \u001b[38;5;241m*\u001b[39m\u001b[38;5;241m*\u001b[39mkwargs):\n\u001b[1;32m     86\u001b[0m     \u001b[38;5;28;01mtry\u001b[39;00m:\n\u001b[0;32m---> 87\u001b[0m         result \u001b[38;5;241m=\u001b[39m \u001b[43mfunc\u001b[49m\u001b[43m(\u001b[49m\u001b[38;5;28;43mself\u001b[39;49m\u001b[43m,\u001b[49m\u001b[43m \u001b[49m\u001b[38;5;241;43m*\u001b[39;49m\u001b[43margs\u001b[49m\u001b[43m,\u001b[49m\u001b[43m \u001b[49m\u001b[38;5;241;43m*\u001b[39;49m\u001b[38;5;241;43m*\u001b[39;49m\u001b[43mkwargs\u001b[49m\u001b[43m)\u001b[49m\n\u001b[1;32m     88\u001b[0m         \u001b[38;5;28;01mreturn\u001b[39;00m result\n\u001b[1;32m     89\u001b[0m     \u001b[38;5;28;01mexcept\u001b[39;00m httpx\u001b[38;5;241m.\u001b[39mConnectError \u001b[38;5;28;01mas\u001b[39;00m err:\n",
      "File \u001b[0;32m~/anaconda3/envs/ce/lib/python3.9/site-packages/argilla/client/sdk/client.py:107\u001b[0m, in \u001b[0;36mClient.get\u001b[0;34m(self, path, *args, **kwargs)\u001b[0m\n\u001b[1;32m    100\u001b[0m path \u001b[38;5;241m=\u001b[39m \u001b[38;5;28mself\u001b[39m\u001b[38;5;241m.\u001b[39m_normalize_path(path)\n\u001b[1;32m    101\u001b[0m response \u001b[38;5;241m=\u001b[39m \u001b[38;5;28mself\u001b[39m\u001b[38;5;241m.\u001b[39m__httpx__\u001b[38;5;241m.\u001b[39mget(\n\u001b[1;32m    102\u001b[0m     url\u001b[38;5;241m=\u001b[39mpath,\n\u001b[1;32m    103\u001b[0m     headers\u001b[38;5;241m=\u001b[39m\u001b[38;5;28mself\u001b[39m\u001b[38;5;241m.\u001b[39mget_headers(),\n\u001b[1;32m    104\u001b[0m     \u001b[38;5;241m*\u001b[39margs,\n\u001b[1;32m    105\u001b[0m     \u001b[38;5;241m*\u001b[39m\u001b[38;5;241m*\u001b[39mkwargs,\n\u001b[1;32m    106\u001b[0m )\n\u001b[0;32m--> 107\u001b[0m \u001b[38;5;28;01mreturn\u001b[39;00m \u001b[43mbuild_raw_response\u001b[49m\u001b[43m(\u001b[49m\u001b[43mresponse\u001b[49m\u001b[43m)\u001b[49m\u001b[38;5;241m.\u001b[39mparsed\n",
      "File \u001b[0;32m~/anaconda3/envs/ce/lib/python3.9/site-packages/argilla/client/sdk/_helpers.py:30\u001b[0m, in \u001b[0;36mbuild_raw_response\u001b[0;34m(response)\u001b[0m\n\u001b[1;32m     27\u001b[0m \u001b[38;5;28;01mdef\u001b[39;00m \u001b[38;5;21mbuild_raw_response\u001b[39m(\n\u001b[1;32m     28\u001b[0m     response: httpx\u001b[38;5;241m.\u001b[39mResponse,\n\u001b[1;32m     29\u001b[0m ) \u001b[38;5;241m-\u001b[39m\u001b[38;5;241m>\u001b[39m Response[Union[Dict[\u001b[38;5;28mstr\u001b[39m, Any], ErrorMessage, HTTPValidationError]]:\n\u001b[0;32m---> 30\u001b[0m     \u001b[38;5;28;01mreturn\u001b[39;00m \u001b[43mbuild_typed_response\u001b[49m\u001b[43m(\u001b[49m\u001b[43mresponse\u001b[49m\u001b[43m,\u001b[49m\u001b[43m \u001b[49m\u001b[43mresponse_type_class\u001b[49m\u001b[38;5;241;43m=\u001b[39;49m\u001b[38;5;28;43mdict\u001b[39;49m\u001b[43m)\u001b[49m\n",
      "File \u001b[0;32m~/anaconda3/envs/ce/lib/python3.9/site-packages/argilla/client/sdk/_helpers.py:42\u001b[0m, in \u001b[0;36mbuild_typed_response\u001b[0;34m(response, response_type_class)\u001b[0m\n\u001b[1;32m     36\u001b[0m \u001b[38;5;28;01mdef\u001b[39;00m \u001b[38;5;21mbuild_typed_response\u001b[39m(\n\u001b[1;32m     37\u001b[0m     response: httpx\u001b[38;5;241m.\u001b[39mResponse,\n\u001b[1;32m     38\u001b[0m     response_type_class: Type[ResponseType],\n\u001b[1;32m     39\u001b[0m ) \u001b[38;5;241m-\u001b[39m\u001b[38;5;241m>\u001b[39m Response[Union[ResponseType, ErrorMessage, HTTPValidationError]]:\n\u001b[1;32m     40\u001b[0m     parsed_response \u001b[38;5;241m=\u001b[39m response\u001b[38;5;241m.\u001b[39mjson()\n\u001b[0;32m---> 42\u001b[0m     \u001b[43mcheck_response_error\u001b[49m\u001b[43m(\u001b[49m\u001b[43mresponse\u001b[49m\u001b[43m,\u001b[49m\u001b[43m \u001b[49m\u001b[43mexpected_response\u001b[49m\u001b[38;5;241;43m=\u001b[39;49m\u001b[43mresponse_type_class\u001b[49m\u001b[43m)\u001b[49m\n\u001b[1;32m     43\u001b[0m     parsed_response \u001b[38;5;241m=\u001b[39m response_type_class(\u001b[38;5;241m*\u001b[39m\u001b[38;5;241m*\u001b[39mparsed_response)\n\u001b[1;32m     44\u001b[0m     \u001b[38;5;28;01mreturn\u001b[39;00m Response(\n\u001b[1;32m     45\u001b[0m         status_code\u001b[38;5;241m=\u001b[39mresponse\u001b[38;5;241m.\u001b[39mstatus_code,\n\u001b[1;32m     46\u001b[0m         content\u001b[38;5;241m=\u001b[39mresponse\u001b[38;5;241m.\u001b[39mcontent,\n\u001b[1;32m     47\u001b[0m         headers\u001b[38;5;241m=\u001b[39mresponse\u001b[38;5;241m.\u001b[39mheaders,\n\u001b[1;32m     48\u001b[0m         parsed\u001b[38;5;241m=\u001b[39mparsed_response,\n\u001b[1;32m     49\u001b[0m     )\n",
      "File \u001b[0;32m~/anaconda3/envs/ce/lib/python3.9/site-packages/argilla/client/sdk/_helpers.py:55\u001b[0m, in \u001b[0;36mcheck_response_error\u001b[0;34m(response, **kwargs)\u001b[0m\n\u001b[1;32m     53\u001b[0m \u001b[38;5;28;01mif\u001b[39;00m \u001b[38;5;241m200\u001b[39m \u001b[38;5;241m<\u001b[39m\u001b[38;5;241m=\u001b[39m response\u001b[38;5;241m.\u001b[39mstatus_code \u001b[38;5;241m<\u001b[39m \u001b[38;5;241m400\u001b[39m:\n\u001b[1;32m     54\u001b[0m     \u001b[38;5;28;01mreturn\u001b[39;00m \u001b[38;5;28;01mFalse\u001b[39;00m\n\u001b[0;32m---> 55\u001b[0m \u001b[43mhandle_response_error\u001b[49m\u001b[43m(\u001b[49m\u001b[43mresponse\u001b[49m\u001b[43m,\u001b[49m\u001b[43m \u001b[49m\u001b[38;5;241;43m*\u001b[39;49m\u001b[38;5;241;43m*\u001b[39;49m\u001b[43mkwargs\u001b[49m\u001b[43m)\u001b[49m\n",
      "File \u001b[0;32m~/anaconda3/envs/ce/lib/python3.9/site-packages/argilla/client/sdk/commons/errors_handler.py:61\u001b[0m, in \u001b[0;36mhandle_response_error\u001b[0;34m(response, parse_response, **client_ctx)\u001b[0m\n\u001b[1;32m     58\u001b[0m \u001b[38;5;28;01melif\u001b[39;00m response\u001b[38;5;241m.\u001b[39mstatus_code \u001b[38;5;241m==\u001b[39m MethodNotAllowedApiError\u001b[38;5;241m.\u001b[39mHTTP_STATUS:\n\u001b[1;32m     59\u001b[0m     error_type \u001b[38;5;241m=\u001b[39m MethodNotAllowedApiError\n\u001b[0;32m---> 61\u001b[0m \u001b[38;5;28;01mraise\u001b[39;00m error_type(\u001b[38;5;241m*\u001b[39m\u001b[38;5;241m*\u001b[39merror_args)\n",
      "\u001b[0;31mUnauthorizedApiError\u001b[0m: Argilla server returned an error with http status: 401\nError details: [{'code': 'argilla.api.errors::UnauthorizedError', 'params': {'detail': 'Could not validate credentials'}}]"
     ]
    }
   ],
   "source": [
    "### log the first data to Argilla\n",
    "import argilla as rg\n",
    "\n",
    "# Choose a name for the dataset\n",
    "DATASET_NAME = f\"{dataset_name}_with_active_learning\"\n",
    "\n",
    "# Define labeling schema\n",
    "labels = dataset_hf[\"train\"].features[\"coarse_label\"].names\n",
    "settings = rg.TextClassificationSettings(label_schema=labels)\n",
    "\n",
    "# Create dataset with a label schema\n",
    "rg.configure_dataset(name=DATASET_NAME, settings=settings)"
   ]
  },
  {
   "cell_type": "code",
   "execution_count": 19,
   "id": "041b09a1",
   "metadata": {},
   "outputs": [
    {
     "ename": "UnauthorizedApiError",
     "evalue": "Argilla server returned an error with http status: 401\nError details: [{'code': 'argilla.api.errors::UnauthorizedError', 'params': {'detail': 'Could not validate credentials'}}]",
     "output_type": "error",
     "traceback": [
      "\u001b[0;31m---------------------------------------------------------------------------\u001b[0m",
      "\u001b[0;31mUnauthorizedApiError\u001b[0m                      Traceback (most recent call last)",
      "Input \u001b[0;32mIn [19]\u001b[0m, in \u001b[0;36m<cell line: 12>\u001b[0;34m()\u001b[0m\n\u001b[1;32m      9\u001b[0m settings \u001b[38;5;241m=\u001b[39m rg\u001b[38;5;241m.\u001b[39mTextClassificationSettings(label_schema\u001b[38;5;241m=\u001b[39mlabels)\n\u001b[1;32m     11\u001b[0m \u001b[38;5;66;03m# Create dataset with a label schema\u001b[39;00m\n\u001b[0;32m---> 12\u001b[0m \u001b[43mrg\u001b[49m\u001b[38;5;241;43m.\u001b[39;49m\u001b[43mconfigure_dataset\u001b[49m\u001b[43m(\u001b[49m\u001b[43mname\u001b[49m\u001b[38;5;241;43m=\u001b[39;49m\u001b[43mDATASET_NAME\u001b[49m\u001b[43m,\u001b[49m\u001b[43m \u001b[49m\u001b[43msettings\u001b[49m\u001b[38;5;241;43m=\u001b[39;49m\u001b[43msettings\u001b[49m\u001b[43m)\u001b[49m\n\u001b[1;32m     14\u001b[0m \u001b[38;5;66;03m# Create records from the initial batch\u001b[39;00m\n\u001b[1;32m     15\u001b[0m records \u001b[38;5;241m=\u001b[39m [\n\u001b[1;32m     16\u001b[0m     rg\u001b[38;5;241m.\u001b[39mTextClassificationRecord(\n\u001b[1;32m     17\u001b[0m         text\u001b[38;5;241m=\u001b[39mdataset_hf[\u001b[38;5;124m\"\u001b[39m\u001b[38;5;124mtrain\u001b[39m\u001b[38;5;124m\"\u001b[39m][\u001b[38;5;124m\"\u001b[39m\u001b[38;5;124mtext\u001b[39m\u001b[38;5;124m\"\u001b[39m][idx],\n\u001b[0;32m   (...)\u001b[0m\n\u001b[1;32m     21\u001b[0m     \u001b[38;5;28;01mfor\u001b[39;00m idx \u001b[38;5;129;01min\u001b[39;00m initial_indices\n\u001b[1;32m     22\u001b[0m ]\n",
      "File \u001b[0;32m~/anaconda3/envs/ce/lib/python3.9/site-packages/argilla/datasets/__init__.py:36\u001b[0m, in \u001b[0;36mconfigure_dataset\u001b[0;34m(name, settings)\u001b[0m\n\u001b[1;32m     25\u001b[0m \u001b[38;5;28;01mdef\u001b[39;00m \u001b[38;5;21mconfigure_dataset\u001b[39m(name: \u001b[38;5;28mstr\u001b[39m, settings: Settings) \u001b[38;5;241m-\u001b[39m\u001b[38;5;241m>\u001b[39m \u001b[38;5;28;01mNone\u001b[39;00m:\n\u001b[1;32m     26\u001b[0m     \u001b[38;5;124;03m\"\"\"\u001b[39;00m\n\u001b[1;32m     27\u001b[0m \u001b[38;5;124;03m    Configures a dataset with a set of configured labels. If dataset does not\u001b[39;00m\n\u001b[1;32m     28\u001b[0m \u001b[38;5;124;03m    exist yet, an empty dataset will be created.\u001b[39;00m\n\u001b[0;32m   (...)\u001b[0m\n\u001b[1;32m     34\u001b[0m \u001b[38;5;124;03m        settings: The dataset settings\u001b[39;00m\n\u001b[1;32m     35\u001b[0m \u001b[38;5;124;03m    \"\"\"\u001b[39;00m\n\u001b[0;32m---> 36\u001b[0m     active_api \u001b[38;5;241m=\u001b[39m \u001b[43mapi\u001b[49m\u001b[38;5;241;43m.\u001b[39;49m\u001b[43mactive_api\u001b[49m\u001b[43m(\u001b[49m\u001b[43m)\u001b[49m\n\u001b[1;32m     37\u001b[0m     datasets \u001b[38;5;241m=\u001b[39m active_api\u001b[38;5;241m.\u001b[39mdatasets\n\u001b[1;32m     38\u001b[0m     datasets\u001b[38;5;241m.\u001b[39mconfigure(name, settings\u001b[38;5;241m=\u001b[39msettings)\n",
      "File \u001b[0;32m~/anaconda3/envs/ce/lib/python3.9/site-packages/argilla/client/api.py:661\u001b[0m, in \u001b[0;36mactive_api\u001b[0;34m()\u001b[0m\n\u001b[1;32m    659\u001b[0m \u001b[38;5;28;01mglobal\u001b[39;00m __ACTIVE_API__\n\u001b[1;32m    660\u001b[0m \u001b[38;5;28;01mif\u001b[39;00m __ACTIVE_API__ \u001b[38;5;129;01mis\u001b[39;00m \u001b[38;5;28;01mNone\u001b[39;00m:\n\u001b[0;32m--> 661\u001b[0m     __ACTIVE_API__ \u001b[38;5;241m=\u001b[39m \u001b[43mApi\u001b[49m\u001b[43m(\u001b[49m\u001b[43m)\u001b[49m\n\u001b[1;32m    662\u001b[0m \u001b[38;5;28;01mreturn\u001b[39;00m __ACTIVE_API__\n",
      "File \u001b[0;32m~/anaconda3/envs/ce/lib/python3.9/site-packages/argilla/client/api.py:157\u001b[0m, in \u001b[0;36mApi.__init__\u001b[0;34m(self, api_url, api_key, workspace, timeout, extra_headers)\u001b[0m\n\u001b[1;32m    148\u001b[0m headers \u001b[38;5;241m=\u001b[39m extra_headers \u001b[38;5;129;01mor\u001b[39;00m {}\n\u001b[1;32m    150\u001b[0m \u001b[38;5;28mself\u001b[39m\u001b[38;5;241m.\u001b[39m_client: AuthenticatedClient \u001b[38;5;241m=\u001b[39m AuthenticatedClient(\n\u001b[1;32m    151\u001b[0m     base_url\u001b[38;5;241m=\u001b[39mapi_url,\n\u001b[1;32m    152\u001b[0m     token\u001b[38;5;241m=\u001b[39mapi_key,\n\u001b[1;32m    153\u001b[0m     timeout\u001b[38;5;241m=\u001b[39mtimeout,\n\u001b[1;32m    154\u001b[0m     headers\u001b[38;5;241m=\u001b[39mheaders\u001b[38;5;241m.\u001b[39mcopy(),\n\u001b[1;32m    155\u001b[0m )\n\u001b[0;32m--> 157\u001b[0m \u001b[38;5;28mself\u001b[39m\u001b[38;5;241m.\u001b[39m_user: User \u001b[38;5;241m=\u001b[39m \u001b[43musers_api\u001b[49m\u001b[38;5;241;43m.\u001b[39;49m\u001b[43mwhoami\u001b[49m\u001b[43m(\u001b[49m\u001b[43mclient\u001b[49m\u001b[38;5;241;43m=\u001b[39;49m\u001b[38;5;28;43mself\u001b[39;49m\u001b[38;5;241;43m.\u001b[39;49m\u001b[43m_client\u001b[49m\u001b[43m)\u001b[49m\n\u001b[1;32m    158\u001b[0m \u001b[38;5;28;01mif\u001b[39;00m workspace \u001b[38;5;129;01mis\u001b[39;00m \u001b[38;5;129;01mnot\u001b[39;00m \u001b[38;5;28;01mNone\u001b[39;00m:\n\u001b[1;32m    159\u001b[0m     \u001b[38;5;28mself\u001b[39m\u001b[38;5;241m.\u001b[39mset_workspace(workspace)\n",
      "File \u001b[0;32m~/anaconda3/envs/ce/lib/python3.9/site-packages/argilla/client/sdk/users/api.py:23\u001b[0m, in \u001b[0;36mwhoami\u001b[0;34m(client)\u001b[0m\n\u001b[1;32m     22\u001b[0m \u001b[38;5;28;01mdef\u001b[39;00m \u001b[38;5;21mwhoami\u001b[39m(client: AuthenticatedClient) \u001b[38;5;241m-\u001b[39m\u001b[38;5;241m>\u001b[39m User:\n\u001b[0;32m---> 23\u001b[0m     response \u001b[38;5;241m=\u001b[39m \u001b[43mclient\u001b[49m\u001b[38;5;241;43m.\u001b[39;49m\u001b[43mget\u001b[49m\u001b[43m(\u001b[49m\u001b[38;5;124;43m\"\u001b[39;49m\u001b[38;5;124;43m/api/me\u001b[39;49m\u001b[38;5;124;43m\"\u001b[39;49m\u001b[43m)\u001b[49m\n\u001b[1;32m     24\u001b[0m     \u001b[38;5;28;01mreturn\u001b[39;00m User(\u001b[38;5;241m*\u001b[39m\u001b[38;5;241m*\u001b[39mresponse)\n",
      "File \u001b[0;32m~/anaconda3/envs/ce/lib/python3.9/site-packages/argilla/client/sdk/client.py:87\u001b[0m, in \u001b[0;36mClient.with_httpx_error_handler.<locals>.inner\u001b[0;34m(self, *args, **kwargs)\u001b[0m\n\u001b[1;32m     84\u001b[0m \u001b[38;5;129m@functools\u001b[39m\u001b[38;5;241m.\u001b[39mwraps(func)\n\u001b[1;32m     85\u001b[0m \u001b[38;5;28;01mdef\u001b[39;00m \u001b[38;5;21minner\u001b[39m(\u001b[38;5;28mself\u001b[39m, \u001b[38;5;241m*\u001b[39margs, \u001b[38;5;241m*\u001b[39m\u001b[38;5;241m*\u001b[39mkwargs):\n\u001b[1;32m     86\u001b[0m     \u001b[38;5;28;01mtry\u001b[39;00m:\n\u001b[0;32m---> 87\u001b[0m         result \u001b[38;5;241m=\u001b[39m \u001b[43mfunc\u001b[49m\u001b[43m(\u001b[49m\u001b[38;5;28;43mself\u001b[39;49m\u001b[43m,\u001b[49m\u001b[43m \u001b[49m\u001b[38;5;241;43m*\u001b[39;49m\u001b[43margs\u001b[49m\u001b[43m,\u001b[49m\u001b[43m \u001b[49m\u001b[38;5;241;43m*\u001b[39;49m\u001b[38;5;241;43m*\u001b[39;49m\u001b[43mkwargs\u001b[49m\u001b[43m)\u001b[49m\n\u001b[1;32m     88\u001b[0m         \u001b[38;5;28;01mreturn\u001b[39;00m result\n\u001b[1;32m     89\u001b[0m     \u001b[38;5;28;01mexcept\u001b[39;00m httpx\u001b[38;5;241m.\u001b[39mConnectError \u001b[38;5;28;01mas\u001b[39;00m err:\n",
      "File \u001b[0;32m~/anaconda3/envs/ce/lib/python3.9/site-packages/argilla/client/sdk/client.py:107\u001b[0m, in \u001b[0;36mClient.get\u001b[0;34m(self, path, *args, **kwargs)\u001b[0m\n\u001b[1;32m    100\u001b[0m path \u001b[38;5;241m=\u001b[39m \u001b[38;5;28mself\u001b[39m\u001b[38;5;241m.\u001b[39m_normalize_path(path)\n\u001b[1;32m    101\u001b[0m response \u001b[38;5;241m=\u001b[39m \u001b[38;5;28mself\u001b[39m\u001b[38;5;241m.\u001b[39m__httpx__\u001b[38;5;241m.\u001b[39mget(\n\u001b[1;32m    102\u001b[0m     url\u001b[38;5;241m=\u001b[39mpath,\n\u001b[1;32m    103\u001b[0m     headers\u001b[38;5;241m=\u001b[39m\u001b[38;5;28mself\u001b[39m\u001b[38;5;241m.\u001b[39mget_headers(),\n\u001b[1;32m    104\u001b[0m     \u001b[38;5;241m*\u001b[39margs,\n\u001b[1;32m    105\u001b[0m     \u001b[38;5;241m*\u001b[39m\u001b[38;5;241m*\u001b[39mkwargs,\n\u001b[1;32m    106\u001b[0m )\n\u001b[0;32m--> 107\u001b[0m \u001b[38;5;28;01mreturn\u001b[39;00m \u001b[43mbuild_raw_response\u001b[49m\u001b[43m(\u001b[49m\u001b[43mresponse\u001b[49m\u001b[43m)\u001b[49m\u001b[38;5;241m.\u001b[39mparsed\n",
      "File \u001b[0;32m~/anaconda3/envs/ce/lib/python3.9/site-packages/argilla/client/sdk/_helpers.py:30\u001b[0m, in \u001b[0;36mbuild_raw_response\u001b[0;34m(response)\u001b[0m\n\u001b[1;32m     27\u001b[0m \u001b[38;5;28;01mdef\u001b[39;00m \u001b[38;5;21mbuild_raw_response\u001b[39m(\n\u001b[1;32m     28\u001b[0m     response: httpx\u001b[38;5;241m.\u001b[39mResponse,\n\u001b[1;32m     29\u001b[0m ) \u001b[38;5;241m-\u001b[39m\u001b[38;5;241m>\u001b[39m Response[Union[Dict[\u001b[38;5;28mstr\u001b[39m, Any], ErrorMessage, HTTPValidationError]]:\n\u001b[0;32m---> 30\u001b[0m     \u001b[38;5;28;01mreturn\u001b[39;00m \u001b[43mbuild_typed_response\u001b[49m\u001b[43m(\u001b[49m\u001b[43mresponse\u001b[49m\u001b[43m,\u001b[49m\u001b[43m \u001b[49m\u001b[43mresponse_type_class\u001b[49m\u001b[38;5;241;43m=\u001b[39;49m\u001b[38;5;28;43mdict\u001b[39;49m\u001b[43m)\u001b[49m\n",
      "File \u001b[0;32m~/anaconda3/envs/ce/lib/python3.9/site-packages/argilla/client/sdk/_helpers.py:42\u001b[0m, in \u001b[0;36mbuild_typed_response\u001b[0;34m(response, response_type_class)\u001b[0m\n\u001b[1;32m     36\u001b[0m \u001b[38;5;28;01mdef\u001b[39;00m \u001b[38;5;21mbuild_typed_response\u001b[39m(\n\u001b[1;32m     37\u001b[0m     response: httpx\u001b[38;5;241m.\u001b[39mResponse,\n\u001b[1;32m     38\u001b[0m     response_type_class: Type[ResponseType],\n\u001b[1;32m     39\u001b[0m ) \u001b[38;5;241m-\u001b[39m\u001b[38;5;241m>\u001b[39m Response[Union[ResponseType, ErrorMessage, HTTPValidationError]]:\n\u001b[1;32m     40\u001b[0m     parsed_response \u001b[38;5;241m=\u001b[39m response\u001b[38;5;241m.\u001b[39mjson()\n\u001b[0;32m---> 42\u001b[0m     \u001b[43mcheck_response_error\u001b[49m\u001b[43m(\u001b[49m\u001b[43mresponse\u001b[49m\u001b[43m,\u001b[49m\u001b[43m \u001b[49m\u001b[43mexpected_response\u001b[49m\u001b[38;5;241;43m=\u001b[39;49m\u001b[43mresponse_type_class\u001b[49m\u001b[43m)\u001b[49m\n\u001b[1;32m     43\u001b[0m     parsed_response \u001b[38;5;241m=\u001b[39m response_type_class(\u001b[38;5;241m*\u001b[39m\u001b[38;5;241m*\u001b[39mparsed_response)\n\u001b[1;32m     44\u001b[0m     \u001b[38;5;28;01mreturn\u001b[39;00m Response(\n\u001b[1;32m     45\u001b[0m         status_code\u001b[38;5;241m=\u001b[39mresponse\u001b[38;5;241m.\u001b[39mstatus_code,\n\u001b[1;32m     46\u001b[0m         content\u001b[38;5;241m=\u001b[39mresponse\u001b[38;5;241m.\u001b[39mcontent,\n\u001b[1;32m     47\u001b[0m         headers\u001b[38;5;241m=\u001b[39mresponse\u001b[38;5;241m.\u001b[39mheaders,\n\u001b[1;32m     48\u001b[0m         parsed\u001b[38;5;241m=\u001b[39mparsed_response,\n\u001b[1;32m     49\u001b[0m     )\n",
      "File \u001b[0;32m~/anaconda3/envs/ce/lib/python3.9/site-packages/argilla/client/sdk/_helpers.py:55\u001b[0m, in \u001b[0;36mcheck_response_error\u001b[0;34m(response, **kwargs)\u001b[0m\n\u001b[1;32m     53\u001b[0m \u001b[38;5;28;01mif\u001b[39;00m \u001b[38;5;241m200\u001b[39m \u001b[38;5;241m<\u001b[39m\u001b[38;5;241m=\u001b[39m response\u001b[38;5;241m.\u001b[39mstatus_code \u001b[38;5;241m<\u001b[39m \u001b[38;5;241m400\u001b[39m:\n\u001b[1;32m     54\u001b[0m     \u001b[38;5;28;01mreturn\u001b[39;00m \u001b[38;5;28;01mFalse\u001b[39;00m\n\u001b[0;32m---> 55\u001b[0m \u001b[43mhandle_response_error\u001b[49m\u001b[43m(\u001b[49m\u001b[43mresponse\u001b[49m\u001b[43m,\u001b[49m\u001b[43m \u001b[49m\u001b[38;5;241;43m*\u001b[39;49m\u001b[38;5;241;43m*\u001b[39;49m\u001b[43mkwargs\u001b[49m\u001b[43m)\u001b[49m\n",
      "File \u001b[0;32m~/anaconda3/envs/ce/lib/python3.9/site-packages/argilla/client/sdk/commons/errors_handler.py:61\u001b[0m, in \u001b[0;36mhandle_response_error\u001b[0;34m(response, parse_response, **client_ctx)\u001b[0m\n\u001b[1;32m     58\u001b[0m \u001b[38;5;28;01melif\u001b[39;00m response\u001b[38;5;241m.\u001b[39mstatus_code \u001b[38;5;241m==\u001b[39m MethodNotAllowedApiError\u001b[38;5;241m.\u001b[39mHTTP_STATUS:\n\u001b[1;32m     59\u001b[0m     error_type \u001b[38;5;241m=\u001b[39m MethodNotAllowedApiError\n\u001b[0;32m---> 61\u001b[0m \u001b[38;5;28;01mraise\u001b[39;00m error_type(\u001b[38;5;241m*\u001b[39m\u001b[38;5;241m*\u001b[39merror_args)\n",
      "\u001b[0;31mUnauthorizedApiError\u001b[0m: Argilla server returned an error with http status: 401\nError details: [{'code': 'argilla.api.errors::UnauthorizedError', 'params': {'detail': 'Could not validate credentials'}}]"
     ]
    }
   ],
   "source": [
    "\n",
    "\n",
    "# Create records from the initial batch\n",
    "records = [\n",
    "    rg.TextClassificationRecord(\n",
    "        text=dataset_hf[\"train\"][\"text\"][idx],\n",
    "        metadata={\"batch_id\": 0},\n",
    "        id=idx,\n",
    "    )\n",
    "    for idx in initial_indices\n",
    "]\n",
    "\n",
    "# Log initial records to Argilla\n",
    "rg.log(records, DATASET_NAME)\n"
   ]
  },
  {
   "cell_type": "code",
   "execution_count": null,
   "id": "d7ef838a",
   "metadata": {},
   "outputs": [],
   "source": []
  }
 ],
 "metadata": {
  "kernelspec": {
   "display_name": "ner-al",
   "language": "python",
   "name": "ner-al"
  },
  "language_info": {
   "codemirror_mode": {
    "name": "ipython",
    "version": 3
   },
   "file_extension": ".py",
   "mimetype": "text/x-python",
   "name": "python",
   "nbconvert_exporter": "python",
   "pygments_lexer": "ipython3",
   "version": "3.9.16"
  }
 },
 "nbformat": 4,
 "nbformat_minor": 5
}
